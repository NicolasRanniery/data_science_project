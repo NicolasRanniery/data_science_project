{
  "cells": [
    {
      "cell_type": "markdown",
      "metadata": {
        "id": "qanqmK4fmfnw"
      },
      "source": [
        "# Predição de bons pagadores de cartão de crédito"
      ]
    },
    {
      "cell_type": "markdown",
      "metadata": {
        "id": "qU-Mw4WXmqPA"
      },
      "source": [
        "## 1. Bibliotecas"
      ]
    },
    {
      "cell_type": "code",
      "execution_count": 51,
      "metadata": {
        "id": "8sd0bDqnmzVo"
      },
      "outputs": [],
      "source": [
        "import pandas as pd"
      ]
    },
    {
      "cell_type": "markdown",
      "metadata": {
        "id": "ITu2M2LCnvzb"
      },
      "source": [
        "## 2. Carregando Dados"
      ]
    },
    {
      "cell_type": "code",
      "execution_count": 52,
      "metadata": {
        "id": "QiK9jkCUn1jH"
      },
      "outputs": [],
      "source": [
        "URL = 'https://github.com/TrainingByPackt/Data-Science-Projects-with-Python/raw/refs/heads/master/Data/default_of_credit_card_clients__courseware_version_1_21_19.xls'\n",
        "df = pd.read_excel(URL)"
      ]
    },
    {
      "cell_type": "markdown",
      "metadata": {
        "id": "0NbsLdyifugH"
      },
      "source": [
        "## 3. Verificando a integridade dos dados"
      ]
    },
    {
      "cell_type": "markdown",
      "metadata": {
        "id": "l_SxMBuNf6f-"
      },
      "source": [
        "### 3.1 Verificando as colunas\n",
        "1) Examine os nomes das colunas executando o comando a seguir na célula: df.columns"
      ]
    },
    {
      "cell_type": "code",
      "execution_count": 53,
      "metadata": {
        "colab": {
          "base_uri": "https://localhost:8080/"
        },
        "id": "oVBOYFxzoDwW",
        "outputId": "9965806c-cf5a-44b3-dc0f-baf317411050"
      },
      "outputs": [
        {
          "name": "stdout",
          "output_type": "stream",
          "text": [
            "Total de colunas: 25 \n",
            "\n"
          ]
        },
        {
          "data": {
            "text/plain": [
              "Index(['ID', 'LIMIT_BAL', 'SEX', 'EDUCATION', 'MARRIAGE', 'AGE', 'PAY_1',\n",
              "       'PAY_2', 'PAY_3', 'PAY_4', 'PAY_5', 'PAY_6', 'BILL_AMT1', 'BILL_AMT2',\n",
              "       'BILL_AMT3', 'BILL_AMT4', 'BILL_AMT5', 'BILL_AMT6', 'PAY_AMT1',\n",
              "       'PAY_AMT2', 'PAY_AMT3', 'PAY_AMT4', 'PAY_AMT5', 'PAY_AMT6',\n",
              "       'default payment next month'],\n",
              "      dtype='object')"
            ]
          },
          "execution_count": 53,
          "metadata": {},
          "output_type": "execute_result"
        }
      ],
      "source": [
        "print(f'Total de colunas: {len(df.columns)}', '\\n')\n",
        "df.columns"
      ]
    },
    {
      "cell_type": "markdown",
      "metadata": {
        "id": "JYjSFqdCpFZ_"
      },
      "source": [
        "#### 3.1.1 Dicionário de dados\n",
        "\n",
        "# 📊 Dicionário de Dados\n",
        "\n",
        "## Variável Resposta\n",
        "| Nome | Tipo | Descrição |\n",
        "|------|------|-----------|\n",
        "| **default_payment** | Binária (0/1) | Indica inadimplência do pagamento: 1 = Sim, 0 = Não |\n",
        "\n",
        "---\n",
        "\n",
        "## Variáveis Explicativas\n",
        "\n",
        "### 1. Informações Demográficas e de Crédito\n",
        "| Código | Descrição | Tipo / Escala |\n",
        "|--------|-----------|---------------|\n",
        "| **X1** | Montante de crédito concedido (NT dólar), incluindo crédito individual e suplementar da família | Numérica contínua |\n",
        "| **X2** | Gênero: 1 = Masculino; 2 = Feminino | Categórica |\n",
        "| **X3** | Escolaridade: 1 = Pós-graduação; 2 = Universidade; 3 = Ensino Médio; 4 = Outros | Categórica |\n",
        "| **X4** | Estado civil: 1 = Casado; 2 = Solteiro; 3 = Outros | Categórica |\n",
        "| **X5** | Idade (anos) | Numérica inteira |\n",
        "\n",
        "---\n",
        "\n",
        "### 2. Histórico de Pagamentos (Abril a Setembro/2005)\n",
        "Escala de medição:\n",
        "- **-1** = Pagamento em dia  \n",
        "- **1** = Atraso de 1 mês  \n",
        "- **2** = Atraso de 2 meses  \n",
        "- ...  \n",
        "- **8** = Atraso de 8 meses  \n",
        "- **9** = Atraso de 9 meses ou mais  \n",
        "\n",
        "| Código | Mês/Ano | Descrição |\n",
        "|--------|---------|-----------|\n",
        "| **X6** | Set/2005 | Status do pagamento |\n",
        "| **X7** | Ago/2005 | Status do pagamento |\n",
        "| **X8** | Jul/2005 | Status do pagamento |\n",
        "| **X9** | Jun/2005 | Status do pagamento |\n",
        "| **X10** | Mai/2005 | Status do pagamento |\n",
        "| **X11** | Abr/2005 | Status do pagamento |\n",
        "\n",
        "---\n",
        "\n",
        "### 3. Valor da Fatura (NT dólar)\n",
        "| Código | Mês/Ano | Descrição |\n",
        "|--------|---------|-----------|\n",
        "| **X12** | Set/2005 | Valor da fatura |\n",
        "| **X13** | Ago/2005 | Valor da fatura |\n",
        "| **X14** | Jul/2005 | Valor da fatura |\n",
        "| **X15** | Jun/2005 | Valor da fatura |\n",
        "| **X16** | Mai/2005 | Valor da fatura |\n",
        "| **X17** | Abr/2005 | Valor da fatura |\n",
        "\n",
        "---\n",
        "\n",
        "### 4. Valor do Pagamento Anterior (NT dólar)\n",
        "| Código | Mês/Ano | Descrição |\n",
        "|--------|---------|-----------|\n",
        "| **X18** | Set/2005 | Valor do pagamento anterior |\n",
        "| **X19** | Ago/2005 | Valor do pagamento anterior |\n",
        "| **X20** | Jul/2005 | Valor do pagamento anterior |\n",
        "| **X21** | Jun/2005 | Valor do pagamento anterior |\n",
        "| **X22** | Mai/2005 | Valor do pagamento anterior |\n",
        "| **X23** | Abr/2005 | Valor do pagamento anterior |\n"
      ]
    },
    {
      "cell_type": "markdown",
      "metadata": {
        "id": "8U6el6NZrlYQ"
      },
      "source": [
        "### 3.2 Dando uma olhada nos nossos dados.\n",
        "2) Digite o comando a seguir na célula subsequente e execute-o usando\n",
        "Shift + Enter: `df.head()`"
      ]
    },
    {
      "cell_type": "code",
      "execution_count": 54,
      "metadata": {
        "colab": {
          "base_uri": "https://localhost:8080/",
          "height": 374
        },
        "id": "x9I_OrFNrzUM",
        "outputId": "47fd58e3-c2ca-4434-856f-82a12e474716"
      },
      "outputs": [
        {
          "data": {
            "text/html": [
              "<div>\n",
              "<style scoped>\n",
              "    .dataframe tbody tr th:only-of-type {\n",
              "        vertical-align: middle;\n",
              "    }\n",
              "\n",
              "    .dataframe tbody tr th {\n",
              "        vertical-align: top;\n",
              "    }\n",
              "\n",
              "    .dataframe thead th {\n",
              "        text-align: right;\n",
              "    }\n",
              "</style>\n",
              "<table border=\"1\" class=\"dataframe\">\n",
              "  <thead>\n",
              "    <tr style=\"text-align: right;\">\n",
              "      <th></th>\n",
              "      <th>ID</th>\n",
              "      <th>LIMIT_BAL</th>\n",
              "      <th>SEX</th>\n",
              "      <th>EDUCATION</th>\n",
              "      <th>MARRIAGE</th>\n",
              "      <th>AGE</th>\n",
              "      <th>PAY_1</th>\n",
              "      <th>PAY_2</th>\n",
              "      <th>PAY_3</th>\n",
              "      <th>PAY_4</th>\n",
              "      <th>...</th>\n",
              "      <th>BILL_AMT4</th>\n",
              "      <th>BILL_AMT5</th>\n",
              "      <th>BILL_AMT6</th>\n",
              "      <th>PAY_AMT1</th>\n",
              "      <th>PAY_AMT2</th>\n",
              "      <th>PAY_AMT3</th>\n",
              "      <th>PAY_AMT4</th>\n",
              "      <th>PAY_AMT5</th>\n",
              "      <th>PAY_AMT6</th>\n",
              "      <th>default payment next month</th>\n",
              "    </tr>\n",
              "  </thead>\n",
              "  <tbody>\n",
              "    <tr>\n",
              "      <th>0</th>\n",
              "      <td>798fc410-45c1</td>\n",
              "      <td>20000</td>\n",
              "      <td>2</td>\n",
              "      <td>2</td>\n",
              "      <td>1</td>\n",
              "      <td>24</td>\n",
              "      <td>2</td>\n",
              "      <td>2</td>\n",
              "      <td>-1</td>\n",
              "      <td>-1</td>\n",
              "      <td>...</td>\n",
              "      <td>0</td>\n",
              "      <td>0</td>\n",
              "      <td>0</td>\n",
              "      <td>0</td>\n",
              "      <td>689</td>\n",
              "      <td>0</td>\n",
              "      <td>0</td>\n",
              "      <td>0</td>\n",
              "      <td>0</td>\n",
              "      <td>1</td>\n",
              "    </tr>\n",
              "    <tr>\n",
              "      <th>1</th>\n",
              "      <td>8a8c8f3b-8eb4</td>\n",
              "      <td>120000</td>\n",
              "      <td>2</td>\n",
              "      <td>2</td>\n",
              "      <td>2</td>\n",
              "      <td>26</td>\n",
              "      <td>-1</td>\n",
              "      <td>2</td>\n",
              "      <td>0</td>\n",
              "      <td>0</td>\n",
              "      <td>...</td>\n",
              "      <td>3272</td>\n",
              "      <td>3455</td>\n",
              "      <td>3261</td>\n",
              "      <td>0</td>\n",
              "      <td>1000</td>\n",
              "      <td>1000</td>\n",
              "      <td>1000</td>\n",
              "      <td>0</td>\n",
              "      <td>2000</td>\n",
              "      <td>1</td>\n",
              "    </tr>\n",
              "    <tr>\n",
              "      <th>2</th>\n",
              "      <td>85698822-43f5</td>\n",
              "      <td>90000</td>\n",
              "      <td>2</td>\n",
              "      <td>2</td>\n",
              "      <td>2</td>\n",
              "      <td>34</td>\n",
              "      <td>0</td>\n",
              "      <td>0</td>\n",
              "      <td>0</td>\n",
              "      <td>0</td>\n",
              "      <td>...</td>\n",
              "      <td>14331</td>\n",
              "      <td>14948</td>\n",
              "      <td>15549</td>\n",
              "      <td>1518</td>\n",
              "      <td>1500</td>\n",
              "      <td>1000</td>\n",
              "      <td>1000</td>\n",
              "      <td>1000</td>\n",
              "      <td>5000</td>\n",
              "      <td>0</td>\n",
              "    </tr>\n",
              "    <tr>\n",
              "      <th>3</th>\n",
              "      <td>0737c11b-be42</td>\n",
              "      <td>50000</td>\n",
              "      <td>2</td>\n",
              "      <td>2</td>\n",
              "      <td>1</td>\n",
              "      <td>37</td>\n",
              "      <td>0</td>\n",
              "      <td>0</td>\n",
              "      <td>0</td>\n",
              "      <td>0</td>\n",
              "      <td>...</td>\n",
              "      <td>28314</td>\n",
              "      <td>28959</td>\n",
              "      <td>29547</td>\n",
              "      <td>2000</td>\n",
              "      <td>2019</td>\n",
              "      <td>1200</td>\n",
              "      <td>1100</td>\n",
              "      <td>1069</td>\n",
              "      <td>1000</td>\n",
              "      <td>0</td>\n",
              "    </tr>\n",
              "    <tr>\n",
              "      <th>4</th>\n",
              "      <td>3b7f77cc-dbc0</td>\n",
              "      <td>50000</td>\n",
              "      <td>1</td>\n",
              "      <td>2</td>\n",
              "      <td>1</td>\n",
              "      <td>57</td>\n",
              "      <td>-1</td>\n",
              "      <td>0</td>\n",
              "      <td>-1</td>\n",
              "      <td>0</td>\n",
              "      <td>...</td>\n",
              "      <td>20940</td>\n",
              "      <td>19146</td>\n",
              "      <td>19131</td>\n",
              "      <td>2000</td>\n",
              "      <td>36681</td>\n",
              "      <td>10000</td>\n",
              "      <td>9000</td>\n",
              "      <td>689</td>\n",
              "      <td>679</td>\n",
              "      <td>0</td>\n",
              "    </tr>\n",
              "  </tbody>\n",
              "</table>\n",
              "<p>5 rows × 25 columns</p>\n",
              "</div>"
            ],
            "text/plain": [
              "              ID  LIMIT_BAL  SEX  EDUCATION  MARRIAGE  AGE PAY_1  PAY_2  \\\n",
              "0  798fc410-45c1      20000    2          2         1   24     2      2   \n",
              "1  8a8c8f3b-8eb4     120000    2          2         2   26    -1      2   \n",
              "2  85698822-43f5      90000    2          2         2   34     0      0   \n",
              "3  0737c11b-be42      50000    2          2         1   37     0      0   \n",
              "4  3b7f77cc-dbc0      50000    1          2         1   57    -1      0   \n",
              "\n",
              "   PAY_3  PAY_4  ...  BILL_AMT4  BILL_AMT5  BILL_AMT6  PAY_AMT1  PAY_AMT2  \\\n",
              "0     -1     -1  ...          0          0          0         0       689   \n",
              "1      0      0  ...       3272       3455       3261         0      1000   \n",
              "2      0      0  ...      14331      14948      15549      1518      1500   \n",
              "3      0      0  ...      28314      28959      29547      2000      2019   \n",
              "4     -1      0  ...      20940      19146      19131      2000     36681   \n",
              "\n",
              "   PAY_AMT3  PAY_AMT4  PAY_AMT5  PAY_AMT6  default payment next month  \n",
              "0         0         0         0         0                           1  \n",
              "1      1000      1000         0      2000                           1  \n",
              "2      1000      1000      1000      5000                           0  \n",
              "3      1200      1100      1069      1000                           0  \n",
              "4     10000      9000       689       679                           0  \n",
              "\n",
              "[5 rows x 25 columns]"
            ]
          },
          "execution_count": 54,
          "metadata": {},
          "output_type": "execute_result"
        }
      ],
      "source": [
        "df.head()"
      ]
    },
    {
      "cell_type": "markdown",
      "metadata": {
        "id": "XL7toZwIwaym"
      },
      "source": [
        "### 3.3 Verificando se todos os IDs são únicos\n",
        "3) Selecione a coluna alvo (ID) e conte os valores exclusivos usando o\n",
        "comando a seguir: `df['ID'].nunique()`\n"
      ]
    },
    {
      "cell_type": "code",
      "execution_count": 55,
      "metadata": {
        "colab": {
          "base_uri": "https://localhost:8080/"
        },
        "id": "brZpCIOWwrdu",
        "outputId": "7c1fc5ad-94f0-4f0e-9e82-85585a303d54"
      },
      "outputs": [
        {
          "data": {
            "text/plain": [
              "29687"
            ]
          },
          "execution_count": 55,
          "metadata": {},
          "output_type": "execute_result"
        }
      ],
      "source": [
        "df['ID'].nunique()"
      ]
    },
    {
      "cell_type": "markdown",
      "metadata": {
        "id": "CoUMyJyu2AjI"
      },
      "source": [
        "Como foi retornado um valor menor que 30000, então há linhas que estão se repetindo."
      ]
    },
    {
      "cell_type": "markdown",
      "metadata": {
        "id": "LuK8ZpPn2Ji1"
      },
      "source": [
        "### 3.4 Verificando o total de linhas"
      ]
    },
    {
      "cell_type": "code",
      "execution_count": 56,
      "metadata": {
        "colab": {
          "base_uri": "https://localhost:8080/"
        },
        "id": "cVBtihUo2bUo",
        "outputId": "ab0c71c5-b6fe-4c7b-bfa6-8a51c801b40a"
      },
      "outputs": [
        {
          "data": {
            "text/plain": [
              "30000"
            ]
          },
          "execution_count": 56,
          "metadata": {},
          "output_type": "execute_result"
        }
      ],
      "source": [
        "df.shape[0] # Retorna apenas a primeira posição da tupla - linhas"
      ]
    },
    {
      "cell_type": "markdown",
      "metadata": {
        "id": "zEXkSc5-2-OX"
      },
      "source": [
        "### 3.5 Contagem de IDs\n",
        "5) Armazene as contagens de valores em uma variável denida como\n",
        "`id_counts` e exiba os valores armazenados usando o método `.head()`,\n",
        "como mostrado:"
      ]
    },
    {
      "cell_type": "code",
      "execution_count": 57,
      "metadata": {
        "colab": {
          "base_uri": "https://localhost:8080/",
          "height": 272
        },
        "id": "0b-UWUeL7qN-",
        "outputId": "4dc6ee77-8119-4fd1-ee03-95667c282407"
      },
      "outputs": [
        {
          "data": {
            "text/plain": [
              "ID\n",
              "ad23fe5c-7b09    2\n",
              "1fb3e3e6-a68d    2\n",
              "89f8f447-fca8    2\n",
              "7c9b7473-cc2f    2\n",
              "90330d02-82d9    2\n",
              "Name: count, dtype: int64"
            ]
          },
          "execution_count": 57,
          "metadata": {},
          "output_type": "execute_result"
        }
      ],
      "source": [
        "id_counts = df['ID'].value_counts()\n",
        "id_counts.head()"
      ]
    },
    {
      "cell_type": "markdown",
      "metadata": {
        "id": "x6jA9P_Y8AEf"
      },
      "source": [
        "### 3.6 Contagem de repetições\n",
        "6) Exiba o número de entradas duplicadas agrupadas executando outra\n",
        "contagem de valores:\n",
        "\n",
        "`id_counts.value_counts()`"
      ]
    },
    {
      "cell_type": "code",
      "execution_count": 58,
      "metadata": {
        "colab": {
          "base_uri": "https://localhost:8080/",
          "height": 178
        },
        "id": "ZAQ8nrrS8Z3v",
        "outputId": "e62f465c-3634-4103-8623-73d3c31a3f88"
      },
      "outputs": [
        {
          "data": {
            "text/plain": [
              "count\n",
              "1    29374\n",
              "2      313\n",
              "Name: count, dtype: int64"
            ]
          },
          "execution_count": 58,
          "metadata": {},
          "output_type": "execute_result"
        }
      ],
      "source": [
        "id_counts.value_counts()"
      ]
    },
    {
      "cell_type": "markdown",
      "metadata": {
        "id": "Hz2zyOC08hH1"
      },
      "source": [
        "A primeira linha mostra quantos números aparecem apenas uma vez, já a segunda mostra quantos números apareceram duas vezes.\n",
        "`1*29374+2*313 = 30000`"
      ]
    },
    {
      "cell_type": "markdown",
      "metadata": {
        "id": "-pc4xQhzBpFt"
      },
      "source": [
        "## 4. Análise de Dados Duplicados\n",
        "1) Continuando onde paramos no Exercício 3, queremos os índices da\n",
        "série id_counts cuja contagem é 2 para localizar as duplicatas.\n",
        "Atribuiremos os IDs duplicados a uma variável chamada dupe_mask e\n",
        "exibiremos os cinco primeiros IDs duplicados usando os comandos a\n",
        "seguir:\n",
        "`dupe_mask = id_counts == 2`\n",
        "\n",
        "`dupe_mask[0:5]`"
      ]
    },
    {
      "cell_type": "markdown",
      "metadata": {
        "id": "jz_-xteuKFVc"
      },
      "source": [
        "### 4.1 IDs que se repetem"
      ]
    },
    {
      "cell_type": "code",
      "execution_count": 59,
      "metadata": {
        "colab": {
          "base_uri": "https://localhost:8080/",
          "height": 272
        },
        "id": "O_GB-refC3rp",
        "outputId": "5f3fa165-95a2-41cf-d3db-db3b9fb39111"
      },
      "outputs": [
        {
          "data": {
            "text/plain": [
              "ID\n",
              "ad23fe5c-7b09    True\n",
              "1fb3e3e6-a68d    True\n",
              "89f8f447-fca8    True\n",
              "7c9b7473-cc2f    True\n",
              "90330d02-82d9    True\n",
              "Name: count, dtype: bool"
            ]
          },
          "execution_count": 59,
          "metadata": {},
          "output_type": "execute_result"
        }
      ],
      "source": [
        "dupe_mask = id_counts == 2\n",
        "dupe_mask[0:5]"
      ]
    },
    {
      "cell_type": "markdown",
      "metadata": {
        "id": "WfoSPVQ1lsD0"
      },
      "source": [
        "### 4.2 Exibindo os 5 primeiros índices\n",
        "\n",
        "2) Acesse o índice de id_count e exiba as cinco primeiras linhas como\n",
        "contexto usando o comando a seguir:\n",
        "\n",
        "`id_counts.index[0:5]`\n"
      ]
    },
    {
      "cell_type": "code",
      "execution_count": 60,
      "metadata": {
        "colab": {
          "base_uri": "https://localhost:8080/"
        },
        "id": "_INzgITTogg6",
        "outputId": "616d91de-1549-44e2-9e14-ff82ae72ecad"
      },
      "outputs": [
        {
          "data": {
            "text/plain": [
              "Index(['ad23fe5c-7b09', '1fb3e3e6-a68d', '89f8f447-fca8', '7c9b7473-cc2f',\n",
              "       '90330d02-82d9'],\n",
              "      dtype='object', name='ID')"
            ]
          },
          "execution_count": 60,
          "metadata": {},
          "output_type": "execute_result"
        }
      ],
      "source": [
        "id_counts.index[:5] # .index retorna apenas o índice, sem o valor associado a ele (que é o número de ocorrências de casa índice)."
      ]
    },
    {
      "cell_type": "markdown",
      "metadata": {
        "id": "AflAbvn4YGf5"
      },
      "source": [
        "### 4.3 Selecionar os IDs duplicados.\n",
        "\n",
        "3) Selecione e armazene os IDs duplicados em uma nova variável chamada\n",
        "dupe_ids usando o comando a seguir:\n",
        "\n",
        "`dupe_ids = id_counts.index[dupe_mask]`"
      ]
    },
    {
      "cell_type": "code",
      "execution_count": 61,
      "metadata": {
        "colab": {
          "base_uri": "https://localhost:8080/"
        },
        "id": "zM4UEEt1YPzH",
        "outputId": "3b67fbbd-0c23-47c7-dd25-03c67bf6f756"
      },
      "outputs": [
        {
          "data": {
            "text/plain": [
              "Index(['ad23fe5c-7b09', '1fb3e3e6-a68d', '89f8f447-fca8', '7c9b7473-cc2f',\n",
              "       '90330d02-82d9', '2a793ecf-05c6', '75938fec-e5ec', '7be61027-a493',\n",
              "       'a3a5c0fc-fdd6', 'b44b81b2-7789',\n",
              "       ...\n",
              "       '4f249cbc-5e9c', '40e75290-0f59', 'fc73f07e-eb96', '2a8ad33f-fa9c',\n",
              "       'cdae2be5-8ec4', 'c69162db-4864', '73ea498f-44b2', '327d06d5-ce7f',\n",
              "       'd13465a5-a9e0', '841ae407-dc4c'],\n",
              "      dtype='object', name='ID', length=313)"
            ]
          },
          "execution_count": 61,
          "metadata": {},
          "output_type": "execute_result"
        }
      ],
      "source": [
        "dupe_ids = id_counts.index[dupe_mask] # Retorna os índices que estão duplicados baseada na máscara que está entre colchetes (verdadeiro e falso)\n",
        "dupe_ids"
      ]
    },
    {
      "cell_type": "markdown",
      "metadata": {
        "id": "z4KVcsnicOpr"
      },
      "source": [
        "### 4.4 Converter para lista\n",
        "4) Converta dupe_ids em uma lista e obtenha seu tamanho usando os\n",
        "seguintes comandos:\n",
        "\n",
        "`dupe_ids = list(dupe_ids)`\n",
        "\n",
        "`len(dupe_ids)`"
      ]
    },
    {
      "cell_type": "code",
      "execution_count": 62,
      "metadata": {
        "colab": {
          "base_uri": "https://localhost:8080/"
        },
        "id": "t7HeiFTOcqyJ",
        "outputId": "745174ed-9108-4c50-c765-b3c89c824ff8"
      },
      "outputs": [
        {
          "data": {
            "text/plain": [
              "313"
            ]
          },
          "execution_count": 62,
          "metadata": {},
          "output_type": "execute_result"
        }
      ],
      "source": [
        "dupe_ids = list(dupe_ids)\n",
        "len(dupe_ids)"
      ]
    },
    {
      "cell_type": "markdown",
      "metadata": {
        "id": "uhLqBWB5dCs2"
      },
      "source": [
        "### 4.5 Verificando os 5 primeiros itens\n",
        "\n",
        "5) Verificaremos os dados de dupe_ids exibindo as cinco primeiras\n",
        "entradas com o comando a seguir:\n",
        "\n",
        "`dupe_ids[0:5]`"
      ]
    },
    {
      "cell_type": "code",
      "execution_count": 63,
      "metadata": {
        "colab": {
          "base_uri": "https://localhost:8080/"
        },
        "id": "OLUD_6IrdQyY",
        "outputId": "b732dda3-c3ad-4895-8896-c02dd7fb3702"
      },
      "outputs": [
        {
          "data": {
            "text/plain": [
              "['ad23fe5c-7b09',\n",
              " '1fb3e3e6-a68d',\n",
              " '89f8f447-fca8',\n",
              " '7c9b7473-cc2f',\n",
              " '90330d02-82d9']"
            ]
          },
          "execution_count": 63,
          "metadata": {},
          "output_type": "execute_result"
        }
      ],
      "source": [
        "dupe_ids[0:5]"
      ]
    },
    {
      "cell_type": "markdown",
      "metadata": {
        "id": "g4KDmghnd01w"
      },
      "source": [
        "### 4.6 Selecionando linhas com IDs duplicados\n",
        "\n",
        "6) Execute o comando a seguir em seu Notebook para pôr em prática o\n",
        "plano que formulamos na etapa anterior:\n",
        "\n",
        "`df.loc[df['ID'].isin(dupe_ids[0:3]),:].head(10)`"
      ]
    },
    {
      "cell_type": "code",
      "execution_count": 64,
      "metadata": {
        "colab": {
          "base_uri": "https://localhost:8080/",
          "height": 443
        },
        "id": "P5S7CNIQd_sX",
        "outputId": "3b10d690-4410-4a00-9c53-5bc23592b2e6"
      },
      "outputs": [
        {
          "data": {
            "text/html": [
              "<div>\n",
              "<style scoped>\n",
              "    .dataframe tbody tr th:only-of-type {\n",
              "        vertical-align: middle;\n",
              "    }\n",
              "\n",
              "    .dataframe tbody tr th {\n",
              "        vertical-align: top;\n",
              "    }\n",
              "\n",
              "    .dataframe thead th {\n",
              "        text-align: right;\n",
              "    }\n",
              "</style>\n",
              "<table border=\"1\" class=\"dataframe\">\n",
              "  <thead>\n",
              "    <tr style=\"text-align: right;\">\n",
              "      <th></th>\n",
              "      <th>ID</th>\n",
              "      <th>LIMIT_BAL</th>\n",
              "      <th>SEX</th>\n",
              "      <th>EDUCATION</th>\n",
              "      <th>MARRIAGE</th>\n",
              "      <th>AGE</th>\n",
              "      <th>PAY_1</th>\n",
              "      <th>PAY_2</th>\n",
              "      <th>PAY_3</th>\n",
              "      <th>PAY_4</th>\n",
              "      <th>...</th>\n",
              "      <th>BILL_AMT4</th>\n",
              "      <th>BILL_AMT5</th>\n",
              "      <th>BILL_AMT6</th>\n",
              "      <th>PAY_AMT1</th>\n",
              "      <th>PAY_AMT2</th>\n",
              "      <th>PAY_AMT3</th>\n",
              "      <th>PAY_AMT4</th>\n",
              "      <th>PAY_AMT5</th>\n",
              "      <th>PAY_AMT6</th>\n",
              "      <th>default payment next month</th>\n",
              "    </tr>\n",
              "  </thead>\n",
              "  <tbody>\n",
              "    <tr>\n",
              "      <th>5033</th>\n",
              "      <td>89f8f447-fca8</td>\n",
              "      <td>320000</td>\n",
              "      <td>2</td>\n",
              "      <td>2</td>\n",
              "      <td>1</td>\n",
              "      <td>32</td>\n",
              "      <td>0</td>\n",
              "      <td>0</td>\n",
              "      <td>0</td>\n",
              "      <td>0</td>\n",
              "      <td>...</td>\n",
              "      <td>169371</td>\n",
              "      <td>172868</td>\n",
              "      <td>150827</td>\n",
              "      <td>8000</td>\n",
              "      <td>8000</td>\n",
              "      <td>5500</td>\n",
              "      <td>6100</td>\n",
              "      <td>6000</td>\n",
              "      <td>5000</td>\n",
              "      <td>0</td>\n",
              "    </tr>\n",
              "    <tr>\n",
              "      <th>5133</th>\n",
              "      <td>89f8f447-fca8</td>\n",
              "      <td>0</td>\n",
              "      <td>0</td>\n",
              "      <td>0</td>\n",
              "      <td>0</td>\n",
              "      <td>0</td>\n",
              "      <td>0</td>\n",
              "      <td>0</td>\n",
              "      <td>0</td>\n",
              "      <td>0</td>\n",
              "      <td>...</td>\n",
              "      <td>0</td>\n",
              "      <td>0</td>\n",
              "      <td>0</td>\n",
              "      <td>0</td>\n",
              "      <td>0</td>\n",
              "      <td>0</td>\n",
              "      <td>0</td>\n",
              "      <td>0</td>\n",
              "      <td>0</td>\n",
              "      <td>0</td>\n",
              "    </tr>\n",
              "    <tr>\n",
              "      <th>16727</th>\n",
              "      <td>1fb3e3e6-a68d</td>\n",
              "      <td>80000</td>\n",
              "      <td>1</td>\n",
              "      <td>2</td>\n",
              "      <td>2</td>\n",
              "      <td>33</td>\n",
              "      <td>2</td>\n",
              "      <td>2</td>\n",
              "      <td>0</td>\n",
              "      <td>0</td>\n",
              "      <td>...</td>\n",
              "      <td>27394</td>\n",
              "      <td>29922</td>\n",
              "      <td>31879</td>\n",
              "      <td>0</td>\n",
              "      <td>2000</td>\n",
              "      <td>2000</td>\n",
              "      <td>3000</td>\n",
              "      <td>2600</td>\n",
              "      <td>0</td>\n",
              "      <td>1</td>\n",
              "    </tr>\n",
              "    <tr>\n",
              "      <th>16827</th>\n",
              "      <td>1fb3e3e6-a68d</td>\n",
              "      <td>0</td>\n",
              "      <td>0</td>\n",
              "      <td>0</td>\n",
              "      <td>0</td>\n",
              "      <td>0</td>\n",
              "      <td>0</td>\n",
              "      <td>0</td>\n",
              "      <td>0</td>\n",
              "      <td>0</td>\n",
              "      <td>...</td>\n",
              "      <td>0</td>\n",
              "      <td>0</td>\n",
              "      <td>0</td>\n",
              "      <td>0</td>\n",
              "      <td>0</td>\n",
              "      <td>0</td>\n",
              "      <td>0</td>\n",
              "      <td>0</td>\n",
              "      <td>0</td>\n",
              "      <td>0</td>\n",
              "    </tr>\n",
              "    <tr>\n",
              "      <th>29685</th>\n",
              "      <td>ad23fe5c-7b09</td>\n",
              "      <td>50000</td>\n",
              "      <td>1</td>\n",
              "      <td>3</td>\n",
              "      <td>1</td>\n",
              "      <td>32</td>\n",
              "      <td>0</td>\n",
              "      <td>0</td>\n",
              "      <td>0</td>\n",
              "      <td>0</td>\n",
              "      <td>...</td>\n",
              "      <td>12882</td>\n",
              "      <td>8131</td>\n",
              "      <td>3983</td>\n",
              "      <td>3000</td>\n",
              "      <td>2871</td>\n",
              "      <td>1000</td>\n",
              "      <td>163</td>\n",
              "      <td>3983</td>\n",
              "      <td>3771</td>\n",
              "      <td>1</td>\n",
              "    </tr>\n",
              "    <tr>\n",
              "      <th>29785</th>\n",
              "      <td>ad23fe5c-7b09</td>\n",
              "      <td>0</td>\n",
              "      <td>0</td>\n",
              "      <td>0</td>\n",
              "      <td>0</td>\n",
              "      <td>0</td>\n",
              "      <td>0</td>\n",
              "      <td>0</td>\n",
              "      <td>0</td>\n",
              "      <td>0</td>\n",
              "      <td>...</td>\n",
              "      <td>0</td>\n",
              "      <td>0</td>\n",
              "      <td>0</td>\n",
              "      <td>0</td>\n",
              "      <td>0</td>\n",
              "      <td>0</td>\n",
              "      <td>0</td>\n",
              "      <td>0</td>\n",
              "      <td>0</td>\n",
              "      <td>0</td>\n",
              "    </tr>\n",
              "  </tbody>\n",
              "</table>\n",
              "<p>6 rows × 25 columns</p>\n",
              "</div>"
            ],
            "text/plain": [
              "                  ID  LIMIT_BAL  SEX  EDUCATION  MARRIAGE  AGE PAY_1  PAY_2  \\\n",
              "5033   89f8f447-fca8     320000    2          2         1   32     0      0   \n",
              "5133   89f8f447-fca8          0    0          0         0    0     0      0   \n",
              "16727  1fb3e3e6-a68d      80000    1          2         2   33     2      2   \n",
              "16827  1fb3e3e6-a68d          0    0          0         0    0     0      0   \n",
              "29685  ad23fe5c-7b09      50000    1          3         1   32     0      0   \n",
              "29785  ad23fe5c-7b09          0    0          0         0    0     0      0   \n",
              "\n",
              "       PAY_3  PAY_4  ...  BILL_AMT4  BILL_AMT5  BILL_AMT6  PAY_AMT1  PAY_AMT2  \\\n",
              "5033       0      0  ...     169371     172868     150827      8000      8000   \n",
              "5133       0      0  ...          0          0          0         0         0   \n",
              "16727      0      0  ...      27394      29922      31879         0      2000   \n",
              "16827      0      0  ...          0          0          0         0         0   \n",
              "29685      0      0  ...      12882       8131       3983      3000      2871   \n",
              "29785      0      0  ...          0          0          0         0         0   \n",
              "\n",
              "       PAY_AMT3  PAY_AMT4  PAY_AMT5  PAY_AMT6  default payment next month  \n",
              "5033       5500      6100      6000      5000                           0  \n",
              "5133          0         0         0         0                           0  \n",
              "16727      2000      3000      2600         0                           1  \n",
              "16827         0         0         0         0                           0  \n",
              "29685      1000       163      3983      3771                           1  \n",
              "29785         0         0         0         0                           0  \n",
              "\n",
              "[6 rows x 25 columns]"
            ]
          },
          "execution_count": 64,
          "metadata": {},
          "output_type": "execute_result"
        }
      ],
      "source": [
        "# Seleciona as 10 primeiras linhas em que a coluna 'ID' está entre os 3 primeiros valores da lista dupe_ids\n",
        "df.loc[df['ID'].isin(dupe_ids[0:3]),:].head(10)"
      ]
    },
    {
      "cell_type": "markdown",
      "metadata": {
        "id": "vqfNkmBQrjLC"
      },
      "source": [
        "### 4.7 Preparando a matriz booleana para a filtragem do DataFrame\n",
        "\n",
        "7) Crie uma matriz booleana com o mesmo tamanho do DataFrame\n",
        "inteiro usando ==, como mostrado:\n",
        "\n",
        "`df_zero_mask = df == 0`"
      ]
    },
    {
      "cell_type": "code",
      "execution_count": 65,
      "metadata": {
        "colab": {
          "base_uri": "https://localhost:8080/",
          "height": 496
        },
        "id": "KaF0QRaprq_J",
        "outputId": "97e818fc-85e9-4320-e86a-37669871f0c3"
      },
      "outputs": [
        {
          "data": {
            "text/html": [
              "<div>\n",
              "<style scoped>\n",
              "    .dataframe tbody tr th:only-of-type {\n",
              "        vertical-align: middle;\n",
              "    }\n",
              "\n",
              "    .dataframe tbody tr th {\n",
              "        vertical-align: top;\n",
              "    }\n",
              "\n",
              "    .dataframe thead th {\n",
              "        text-align: right;\n",
              "    }\n",
              "</style>\n",
              "<table border=\"1\" class=\"dataframe\">\n",
              "  <thead>\n",
              "    <tr style=\"text-align: right;\">\n",
              "      <th></th>\n",
              "      <th>ID</th>\n",
              "      <th>LIMIT_BAL</th>\n",
              "      <th>SEX</th>\n",
              "      <th>EDUCATION</th>\n",
              "      <th>MARRIAGE</th>\n",
              "      <th>AGE</th>\n",
              "      <th>PAY_1</th>\n",
              "      <th>PAY_2</th>\n",
              "      <th>PAY_3</th>\n",
              "      <th>PAY_4</th>\n",
              "      <th>...</th>\n",
              "      <th>BILL_AMT4</th>\n",
              "      <th>BILL_AMT5</th>\n",
              "      <th>BILL_AMT6</th>\n",
              "      <th>PAY_AMT1</th>\n",
              "      <th>PAY_AMT2</th>\n",
              "      <th>PAY_AMT3</th>\n",
              "      <th>PAY_AMT4</th>\n",
              "      <th>PAY_AMT5</th>\n",
              "      <th>PAY_AMT6</th>\n",
              "      <th>default payment next month</th>\n",
              "    </tr>\n",
              "  </thead>\n",
              "  <tbody>\n",
              "    <tr>\n",
              "      <th>0</th>\n",
              "      <td>False</td>\n",
              "      <td>False</td>\n",
              "      <td>False</td>\n",
              "      <td>False</td>\n",
              "      <td>False</td>\n",
              "      <td>False</td>\n",
              "      <td>False</td>\n",
              "      <td>False</td>\n",
              "      <td>False</td>\n",
              "      <td>False</td>\n",
              "      <td>...</td>\n",
              "      <td>True</td>\n",
              "      <td>True</td>\n",
              "      <td>True</td>\n",
              "      <td>True</td>\n",
              "      <td>False</td>\n",
              "      <td>True</td>\n",
              "      <td>True</td>\n",
              "      <td>True</td>\n",
              "      <td>True</td>\n",
              "      <td>False</td>\n",
              "    </tr>\n",
              "    <tr>\n",
              "      <th>1</th>\n",
              "      <td>False</td>\n",
              "      <td>False</td>\n",
              "      <td>False</td>\n",
              "      <td>False</td>\n",
              "      <td>False</td>\n",
              "      <td>False</td>\n",
              "      <td>False</td>\n",
              "      <td>False</td>\n",
              "      <td>True</td>\n",
              "      <td>True</td>\n",
              "      <td>...</td>\n",
              "      <td>False</td>\n",
              "      <td>False</td>\n",
              "      <td>False</td>\n",
              "      <td>True</td>\n",
              "      <td>False</td>\n",
              "      <td>False</td>\n",
              "      <td>False</td>\n",
              "      <td>True</td>\n",
              "      <td>False</td>\n",
              "      <td>False</td>\n",
              "    </tr>\n",
              "    <tr>\n",
              "      <th>2</th>\n",
              "      <td>False</td>\n",
              "      <td>False</td>\n",
              "      <td>False</td>\n",
              "      <td>False</td>\n",
              "      <td>False</td>\n",
              "      <td>False</td>\n",
              "      <td>True</td>\n",
              "      <td>True</td>\n",
              "      <td>True</td>\n",
              "      <td>True</td>\n",
              "      <td>...</td>\n",
              "      <td>False</td>\n",
              "      <td>False</td>\n",
              "      <td>False</td>\n",
              "      <td>False</td>\n",
              "      <td>False</td>\n",
              "      <td>False</td>\n",
              "      <td>False</td>\n",
              "      <td>False</td>\n",
              "      <td>False</td>\n",
              "      <td>True</td>\n",
              "    </tr>\n",
              "    <tr>\n",
              "      <th>3</th>\n",
              "      <td>False</td>\n",
              "      <td>False</td>\n",
              "      <td>False</td>\n",
              "      <td>False</td>\n",
              "      <td>False</td>\n",
              "      <td>False</td>\n",
              "      <td>True</td>\n",
              "      <td>True</td>\n",
              "      <td>True</td>\n",
              "      <td>True</td>\n",
              "      <td>...</td>\n",
              "      <td>False</td>\n",
              "      <td>False</td>\n",
              "      <td>False</td>\n",
              "      <td>False</td>\n",
              "      <td>False</td>\n",
              "      <td>False</td>\n",
              "      <td>False</td>\n",
              "      <td>False</td>\n",
              "      <td>False</td>\n",
              "      <td>True</td>\n",
              "    </tr>\n",
              "    <tr>\n",
              "      <th>4</th>\n",
              "      <td>False</td>\n",
              "      <td>False</td>\n",
              "      <td>False</td>\n",
              "      <td>False</td>\n",
              "      <td>False</td>\n",
              "      <td>False</td>\n",
              "      <td>False</td>\n",
              "      <td>True</td>\n",
              "      <td>False</td>\n",
              "      <td>True</td>\n",
              "      <td>...</td>\n",
              "      <td>False</td>\n",
              "      <td>False</td>\n",
              "      <td>False</td>\n",
              "      <td>False</td>\n",
              "      <td>False</td>\n",
              "      <td>False</td>\n",
              "      <td>False</td>\n",
              "      <td>False</td>\n",
              "      <td>False</td>\n",
              "      <td>True</td>\n",
              "    </tr>\n",
              "    <tr>\n",
              "      <th>...</th>\n",
              "      <td>...</td>\n",
              "      <td>...</td>\n",
              "      <td>...</td>\n",
              "      <td>...</td>\n",
              "      <td>...</td>\n",
              "      <td>...</td>\n",
              "      <td>...</td>\n",
              "      <td>...</td>\n",
              "      <td>...</td>\n",
              "      <td>...</td>\n",
              "      <td>...</td>\n",
              "      <td>...</td>\n",
              "      <td>...</td>\n",
              "      <td>...</td>\n",
              "      <td>...</td>\n",
              "      <td>...</td>\n",
              "      <td>...</td>\n",
              "      <td>...</td>\n",
              "      <td>...</td>\n",
              "      <td>...</td>\n",
              "      <td>...</td>\n",
              "    </tr>\n",
              "    <tr>\n",
              "      <th>29995</th>\n",
              "      <td>False</td>\n",
              "      <td>False</td>\n",
              "      <td>False</td>\n",
              "      <td>False</td>\n",
              "      <td>False</td>\n",
              "      <td>False</td>\n",
              "      <td>True</td>\n",
              "      <td>True</td>\n",
              "      <td>True</td>\n",
              "      <td>True</td>\n",
              "      <td>...</td>\n",
              "      <td>False</td>\n",
              "      <td>False</td>\n",
              "      <td>False</td>\n",
              "      <td>False</td>\n",
              "      <td>False</td>\n",
              "      <td>False</td>\n",
              "      <td>False</td>\n",
              "      <td>False</td>\n",
              "      <td>False</td>\n",
              "      <td>True</td>\n",
              "    </tr>\n",
              "    <tr>\n",
              "      <th>29996</th>\n",
              "      <td>False</td>\n",
              "      <td>False</td>\n",
              "      <td>False</td>\n",
              "      <td>False</td>\n",
              "      <td>False</td>\n",
              "      <td>False</td>\n",
              "      <td>False</td>\n",
              "      <td>False</td>\n",
              "      <td>False</td>\n",
              "      <td>False</td>\n",
              "      <td>...</td>\n",
              "      <td>False</td>\n",
              "      <td>False</td>\n",
              "      <td>True</td>\n",
              "      <td>False</td>\n",
              "      <td>False</td>\n",
              "      <td>False</td>\n",
              "      <td>False</td>\n",
              "      <td>True</td>\n",
              "      <td>True</td>\n",
              "      <td>True</td>\n",
              "    </tr>\n",
              "    <tr>\n",
              "      <th>29997</th>\n",
              "      <td>False</td>\n",
              "      <td>False</td>\n",
              "      <td>False</td>\n",
              "      <td>False</td>\n",
              "      <td>False</td>\n",
              "      <td>False</td>\n",
              "      <td>False</td>\n",
              "      <td>False</td>\n",
              "      <td>False</td>\n",
              "      <td>False</td>\n",
              "      <td>...</td>\n",
              "      <td>False</td>\n",
              "      <td>False</td>\n",
              "      <td>False</td>\n",
              "      <td>True</td>\n",
              "      <td>True</td>\n",
              "      <td>False</td>\n",
              "      <td>False</td>\n",
              "      <td>False</td>\n",
              "      <td>False</td>\n",
              "      <td>False</td>\n",
              "    </tr>\n",
              "    <tr>\n",
              "      <th>29998</th>\n",
              "      <td>False</td>\n",
              "      <td>False</td>\n",
              "      <td>False</td>\n",
              "      <td>False</td>\n",
              "      <td>False</td>\n",
              "      <td>False</td>\n",
              "      <td>False</td>\n",
              "      <td>False</td>\n",
              "      <td>True</td>\n",
              "      <td>True</td>\n",
              "      <td>...</td>\n",
              "      <td>False</td>\n",
              "      <td>False</td>\n",
              "      <td>False</td>\n",
              "      <td>False</td>\n",
              "      <td>False</td>\n",
              "      <td>False</td>\n",
              "      <td>False</td>\n",
              "      <td>False</td>\n",
              "      <td>False</td>\n",
              "      <td>False</td>\n",
              "    </tr>\n",
              "    <tr>\n",
              "      <th>29999</th>\n",
              "      <td>False</td>\n",
              "      <td>False</td>\n",
              "      <td>False</td>\n",
              "      <td>False</td>\n",
              "      <td>False</td>\n",
              "      <td>False</td>\n",
              "      <td>True</td>\n",
              "      <td>True</td>\n",
              "      <td>True</td>\n",
              "      <td>True</td>\n",
              "      <td>...</td>\n",
              "      <td>False</td>\n",
              "      <td>False</td>\n",
              "      <td>False</td>\n",
              "      <td>False</td>\n",
              "      <td>False</td>\n",
              "      <td>False</td>\n",
              "      <td>False</td>\n",
              "      <td>False</td>\n",
              "      <td>False</td>\n",
              "      <td>False</td>\n",
              "    </tr>\n",
              "  </tbody>\n",
              "</table>\n",
              "<p>30000 rows × 25 columns</p>\n",
              "</div>"
            ],
            "text/plain": [
              "          ID  LIMIT_BAL    SEX  EDUCATION  MARRIAGE    AGE  PAY_1  PAY_2  \\\n",
              "0      False      False  False      False     False  False  False  False   \n",
              "1      False      False  False      False     False  False  False  False   \n",
              "2      False      False  False      False     False  False   True   True   \n",
              "3      False      False  False      False     False  False   True   True   \n",
              "4      False      False  False      False     False  False  False   True   \n",
              "...      ...        ...    ...        ...       ...    ...    ...    ...   \n",
              "29995  False      False  False      False     False  False   True   True   \n",
              "29996  False      False  False      False     False  False  False  False   \n",
              "29997  False      False  False      False     False  False  False  False   \n",
              "29998  False      False  False      False     False  False  False  False   \n",
              "29999  False      False  False      False     False  False   True   True   \n",
              "\n",
              "       PAY_3  PAY_4  ...  BILL_AMT4  BILL_AMT5  BILL_AMT6  PAY_AMT1  PAY_AMT2  \\\n",
              "0      False  False  ...       True       True       True      True     False   \n",
              "1       True   True  ...      False      False      False      True     False   \n",
              "2       True   True  ...      False      False      False     False     False   \n",
              "3       True   True  ...      False      False      False     False     False   \n",
              "4      False   True  ...      False      False      False     False     False   \n",
              "...      ...    ...  ...        ...        ...        ...       ...       ...   \n",
              "29995   True   True  ...      False      False      False     False     False   \n",
              "29996  False  False  ...      False      False       True     False     False   \n",
              "29997  False  False  ...      False      False      False      True      True   \n",
              "29998   True   True  ...      False      False      False     False     False   \n",
              "29999   True   True  ...      False      False      False     False     False   \n",
              "\n",
              "       PAY_AMT3  PAY_AMT4  PAY_AMT5  PAY_AMT6  default payment next month  \n",
              "0          True      True      True      True                       False  \n",
              "1         False     False      True     False                       False  \n",
              "2         False     False     False     False                        True  \n",
              "3         False     False     False     False                        True  \n",
              "4         False     False     False     False                        True  \n",
              "...         ...       ...       ...       ...                         ...  \n",
              "29995     False     False     False     False                        True  \n",
              "29996     False     False      True      True                        True  \n",
              "29997     False     False     False     False                       False  \n",
              "29998     False     False     False     False                       False  \n",
              "29999     False     False     False     False                       False  \n",
              "\n",
              "[30000 rows x 25 columns]"
            ]
          },
          "execution_count": 65,
          "metadata": {},
          "output_type": "execute_result"
        }
      ],
      "source": [
        "df_zero_mask = df == 0\n",
        "df_zero_mask"
      ]
    },
    {
      "cell_type": "markdown",
      "metadata": {
        "id": "JB5_qhCJtf5j"
      },
      "source": [
        "### 4.8 Criando uma série booleana\n",
        "\n",
        "8) Crie a série booleana `feature_zero_mask`, como mostrado aqui:\n",
        "\n",
        "`feature_zero_mask = df_zero_mask.iloc[:,1:].all(axis=1)`"
      ]
    },
    {
      "cell_type": "code",
      "execution_count": 66,
      "metadata": {
        "colab": {
          "base_uri": "https://localhost:8080/",
          "height": 458
        },
        "id": "V5QB0UjOt63i",
        "outputId": "75e628d9-1ea1-4567-f329-6f363e816cfc"
      },
      "outputs": [
        {
          "data": {
            "text/plain": [
              "0        False\n",
              "1        False\n",
              "2        False\n",
              "3        False\n",
              "4        False\n",
              "         ...  \n",
              "29995    False\n",
              "29996    False\n",
              "29997    False\n",
              "29998    False\n",
              "29999    False\n",
              "Length: 30000, dtype: bool"
            ]
          },
          "execution_count": 66,
          "metadata": {},
          "output_type": "execute_result"
        }
      ],
      "source": [
        "# Seleciona todas as linhas e colunas (com exceção de ID) e verifica se os valores das colunas é igual a 0. Retorna False se o valor for diferente de 0 e True se for 0.\n",
        "feature_zero_mask = df_zero_mask.iloc[:,1:].all(axis=1)\n",
        "feature_zero_mask"
      ]
    },
    {
      "cell_type": "markdown",
      "metadata": {
        "id": "EIVUyx6huUDR"
      },
      "source": [
        "### 4.9 Soma de linhas com todas as colunas zeradas (exceto ID)\n",
        "9) Calcule a soma da série booleana usando este comando:\n",
        "\n",
        "`sum(feature_zero_mask)`"
      ]
    },
    {
      "cell_type": "code",
      "execution_count": 67,
      "metadata": {
        "colab": {
          "base_uri": "https://localhost:8080/"
        },
        "id": "RJQNZe-tuZIM",
        "outputId": "bb7d374b-efbd-4332-9c3c-b7bca7a0e72b"
      },
      "outputs": [
        {
          "data": {
            "text/plain": [
              "315"
            ]
          },
          "execution_count": 67,
          "metadata": {},
          "output_type": "execute_result"
        }
      ],
      "source": [
        "sum(feature_zero_mask)"
      ]
    },
    {
      "cell_type": "markdown",
      "metadata": {
        "id": "VS1-VVDozZVL"
      },
      "source": [
        "### 4.10 Eliminar as linhas com todas as colunas zeradas\n",
        "\n",
        "10) Limpe o DataFrame eliminando as linhas só com zeros, exceto pelo ID,\n",
        "usando o código a seguir:\n",
        "\n",
        "`df_clean_1 = df.loc[~feature_zero_mask,:].copy()`"
      ]
    },
    {
      "cell_type": "code",
      "execution_count": 68,
      "metadata": {
        "colab": {
          "base_uri": "https://localhost:8080/",
          "height": 669
        },
        "id": "DSMONHdEzrXj",
        "outputId": "8aacbe43-3635-401a-a36e-980cc675b76a"
      },
      "outputs": [
        {
          "data": {
            "text/html": [
              "<div>\n",
              "<style scoped>\n",
              "    .dataframe tbody tr th:only-of-type {\n",
              "        vertical-align: middle;\n",
              "    }\n",
              "\n",
              "    .dataframe tbody tr th {\n",
              "        vertical-align: top;\n",
              "    }\n",
              "\n",
              "    .dataframe thead th {\n",
              "        text-align: right;\n",
              "    }\n",
              "</style>\n",
              "<table border=\"1\" class=\"dataframe\">\n",
              "  <thead>\n",
              "    <tr style=\"text-align: right;\">\n",
              "      <th></th>\n",
              "      <th>ID</th>\n",
              "      <th>LIMIT_BAL</th>\n",
              "      <th>SEX</th>\n",
              "      <th>EDUCATION</th>\n",
              "      <th>MARRIAGE</th>\n",
              "      <th>AGE</th>\n",
              "      <th>PAY_1</th>\n",
              "      <th>PAY_2</th>\n",
              "      <th>PAY_3</th>\n",
              "      <th>PAY_4</th>\n",
              "      <th>...</th>\n",
              "      <th>BILL_AMT4</th>\n",
              "      <th>BILL_AMT5</th>\n",
              "      <th>BILL_AMT6</th>\n",
              "      <th>PAY_AMT1</th>\n",
              "      <th>PAY_AMT2</th>\n",
              "      <th>PAY_AMT3</th>\n",
              "      <th>PAY_AMT4</th>\n",
              "      <th>PAY_AMT5</th>\n",
              "      <th>PAY_AMT6</th>\n",
              "      <th>default payment next month</th>\n",
              "    </tr>\n",
              "  </thead>\n",
              "  <tbody>\n",
              "    <tr>\n",
              "      <th>0</th>\n",
              "      <td>798fc410-45c1</td>\n",
              "      <td>20000</td>\n",
              "      <td>2</td>\n",
              "      <td>2</td>\n",
              "      <td>1</td>\n",
              "      <td>24</td>\n",
              "      <td>2</td>\n",
              "      <td>2</td>\n",
              "      <td>-1</td>\n",
              "      <td>-1</td>\n",
              "      <td>...</td>\n",
              "      <td>0</td>\n",
              "      <td>0</td>\n",
              "      <td>0</td>\n",
              "      <td>0</td>\n",
              "      <td>689</td>\n",
              "      <td>0</td>\n",
              "      <td>0</td>\n",
              "      <td>0</td>\n",
              "      <td>0</td>\n",
              "      <td>1</td>\n",
              "    </tr>\n",
              "    <tr>\n",
              "      <th>1</th>\n",
              "      <td>8a8c8f3b-8eb4</td>\n",
              "      <td>120000</td>\n",
              "      <td>2</td>\n",
              "      <td>2</td>\n",
              "      <td>2</td>\n",
              "      <td>26</td>\n",
              "      <td>-1</td>\n",
              "      <td>2</td>\n",
              "      <td>0</td>\n",
              "      <td>0</td>\n",
              "      <td>...</td>\n",
              "      <td>3272</td>\n",
              "      <td>3455</td>\n",
              "      <td>3261</td>\n",
              "      <td>0</td>\n",
              "      <td>1000</td>\n",
              "      <td>1000</td>\n",
              "      <td>1000</td>\n",
              "      <td>0</td>\n",
              "      <td>2000</td>\n",
              "      <td>1</td>\n",
              "    </tr>\n",
              "    <tr>\n",
              "      <th>2</th>\n",
              "      <td>85698822-43f5</td>\n",
              "      <td>90000</td>\n",
              "      <td>2</td>\n",
              "      <td>2</td>\n",
              "      <td>2</td>\n",
              "      <td>34</td>\n",
              "      <td>0</td>\n",
              "      <td>0</td>\n",
              "      <td>0</td>\n",
              "      <td>0</td>\n",
              "      <td>...</td>\n",
              "      <td>14331</td>\n",
              "      <td>14948</td>\n",
              "      <td>15549</td>\n",
              "      <td>1518</td>\n",
              "      <td>1500</td>\n",
              "      <td>1000</td>\n",
              "      <td>1000</td>\n",
              "      <td>1000</td>\n",
              "      <td>5000</td>\n",
              "      <td>0</td>\n",
              "    </tr>\n",
              "    <tr>\n",
              "      <th>3</th>\n",
              "      <td>0737c11b-be42</td>\n",
              "      <td>50000</td>\n",
              "      <td>2</td>\n",
              "      <td>2</td>\n",
              "      <td>1</td>\n",
              "      <td>37</td>\n",
              "      <td>0</td>\n",
              "      <td>0</td>\n",
              "      <td>0</td>\n",
              "      <td>0</td>\n",
              "      <td>...</td>\n",
              "      <td>28314</td>\n",
              "      <td>28959</td>\n",
              "      <td>29547</td>\n",
              "      <td>2000</td>\n",
              "      <td>2019</td>\n",
              "      <td>1200</td>\n",
              "      <td>1100</td>\n",
              "      <td>1069</td>\n",
              "      <td>1000</td>\n",
              "      <td>0</td>\n",
              "    </tr>\n",
              "    <tr>\n",
              "      <th>4</th>\n",
              "      <td>3b7f77cc-dbc0</td>\n",
              "      <td>50000</td>\n",
              "      <td>1</td>\n",
              "      <td>2</td>\n",
              "      <td>1</td>\n",
              "      <td>57</td>\n",
              "      <td>-1</td>\n",
              "      <td>0</td>\n",
              "      <td>-1</td>\n",
              "      <td>0</td>\n",
              "      <td>...</td>\n",
              "      <td>20940</td>\n",
              "      <td>19146</td>\n",
              "      <td>19131</td>\n",
              "      <td>2000</td>\n",
              "      <td>36681</td>\n",
              "      <td>10000</td>\n",
              "      <td>9000</td>\n",
              "      <td>689</td>\n",
              "      <td>679</td>\n",
              "      <td>0</td>\n",
              "    </tr>\n",
              "    <tr>\n",
              "      <th>...</th>\n",
              "      <td>...</td>\n",
              "      <td>...</td>\n",
              "      <td>...</td>\n",
              "      <td>...</td>\n",
              "      <td>...</td>\n",
              "      <td>...</td>\n",
              "      <td>...</td>\n",
              "      <td>...</td>\n",
              "      <td>...</td>\n",
              "      <td>...</td>\n",
              "      <td>...</td>\n",
              "      <td>...</td>\n",
              "      <td>...</td>\n",
              "      <td>...</td>\n",
              "      <td>...</td>\n",
              "      <td>...</td>\n",
              "      <td>...</td>\n",
              "      <td>...</td>\n",
              "      <td>...</td>\n",
              "      <td>...</td>\n",
              "      <td>...</td>\n",
              "    </tr>\n",
              "    <tr>\n",
              "      <th>29995</th>\n",
              "      <td>ecff42d0-bdc6</td>\n",
              "      <td>220000</td>\n",
              "      <td>1</td>\n",
              "      <td>3</td>\n",
              "      <td>1</td>\n",
              "      <td>39</td>\n",
              "      <td>0</td>\n",
              "      <td>0</td>\n",
              "      <td>0</td>\n",
              "      <td>0</td>\n",
              "      <td>...</td>\n",
              "      <td>88004</td>\n",
              "      <td>31237</td>\n",
              "      <td>15980</td>\n",
              "      <td>8500</td>\n",
              "      <td>20000</td>\n",
              "      <td>5003</td>\n",
              "      <td>3047</td>\n",
              "      <td>5000</td>\n",
              "      <td>1000</td>\n",
              "      <td>0</td>\n",
              "    </tr>\n",
              "    <tr>\n",
              "      <th>29996</th>\n",
              "      <td>99d1fa0e-222b</td>\n",
              "      <td>150000</td>\n",
              "      <td>1</td>\n",
              "      <td>3</td>\n",
              "      <td>2</td>\n",
              "      <td>43</td>\n",
              "      <td>-1</td>\n",
              "      <td>-1</td>\n",
              "      <td>-1</td>\n",
              "      <td>-1</td>\n",
              "      <td>...</td>\n",
              "      <td>8979</td>\n",
              "      <td>5190</td>\n",
              "      <td>0</td>\n",
              "      <td>1837</td>\n",
              "      <td>3526</td>\n",
              "      <td>8998</td>\n",
              "      <td>129</td>\n",
              "      <td>0</td>\n",
              "      <td>0</td>\n",
              "      <td>0</td>\n",
              "    </tr>\n",
              "    <tr>\n",
              "      <th>29997</th>\n",
              "      <td>95cdd3e7-4f24</td>\n",
              "      <td>30000</td>\n",
              "      <td>1</td>\n",
              "      <td>2</td>\n",
              "      <td>2</td>\n",
              "      <td>37</td>\n",
              "      <td>4</td>\n",
              "      <td>3</td>\n",
              "      <td>2</td>\n",
              "      <td>-1</td>\n",
              "      <td>...</td>\n",
              "      <td>20878</td>\n",
              "      <td>20582</td>\n",
              "      <td>19357</td>\n",
              "      <td>0</td>\n",
              "      <td>0</td>\n",
              "      <td>22000</td>\n",
              "      <td>4200</td>\n",
              "      <td>2000</td>\n",
              "      <td>3100</td>\n",
              "      <td>1</td>\n",
              "    </tr>\n",
              "    <tr>\n",
              "      <th>29998</th>\n",
              "      <td>00d03f02-04cd</td>\n",
              "      <td>80000</td>\n",
              "      <td>1</td>\n",
              "      <td>3</td>\n",
              "      <td>1</td>\n",
              "      <td>41</td>\n",
              "      <td>1</td>\n",
              "      <td>-1</td>\n",
              "      <td>0</td>\n",
              "      <td>0</td>\n",
              "      <td>...</td>\n",
              "      <td>52774</td>\n",
              "      <td>11855</td>\n",
              "      <td>48944</td>\n",
              "      <td>85900</td>\n",
              "      <td>3409</td>\n",
              "      <td>1178</td>\n",
              "      <td>1926</td>\n",
              "      <td>52964</td>\n",
              "      <td>1804</td>\n",
              "      <td>1</td>\n",
              "    </tr>\n",
              "    <tr>\n",
              "      <th>29999</th>\n",
              "      <td>15d69f9f-5ad3</td>\n",
              "      <td>50000</td>\n",
              "      <td>1</td>\n",
              "      <td>2</td>\n",
              "      <td>1</td>\n",
              "      <td>46</td>\n",
              "      <td>0</td>\n",
              "      <td>0</td>\n",
              "      <td>0</td>\n",
              "      <td>0</td>\n",
              "      <td>...</td>\n",
              "      <td>36535</td>\n",
              "      <td>32428</td>\n",
              "      <td>15313</td>\n",
              "      <td>2078</td>\n",
              "      <td>1800</td>\n",
              "      <td>1430</td>\n",
              "      <td>1000</td>\n",
              "      <td>1000</td>\n",
              "      <td>1000</td>\n",
              "      <td>1</td>\n",
              "    </tr>\n",
              "  </tbody>\n",
              "</table>\n",
              "<p>29685 rows × 25 columns</p>\n",
              "</div>"
            ],
            "text/plain": [
              "                  ID  LIMIT_BAL  SEX  EDUCATION  MARRIAGE  AGE PAY_1  PAY_2  \\\n",
              "0      798fc410-45c1      20000    2          2         1   24     2      2   \n",
              "1      8a8c8f3b-8eb4     120000    2          2         2   26    -1      2   \n",
              "2      85698822-43f5      90000    2          2         2   34     0      0   \n",
              "3      0737c11b-be42      50000    2          2         1   37     0      0   \n",
              "4      3b7f77cc-dbc0      50000    1          2         1   57    -1      0   \n",
              "...              ...        ...  ...        ...       ...  ...   ...    ...   \n",
              "29995  ecff42d0-bdc6     220000    1          3         1   39     0      0   \n",
              "29996  99d1fa0e-222b     150000    1          3         2   43    -1     -1   \n",
              "29997  95cdd3e7-4f24      30000    1          2         2   37     4      3   \n",
              "29998  00d03f02-04cd      80000    1          3         1   41     1     -1   \n",
              "29999  15d69f9f-5ad3      50000    1          2         1   46     0      0   \n",
              "\n",
              "       PAY_3  PAY_4  ...  BILL_AMT4  BILL_AMT5  BILL_AMT6  PAY_AMT1  PAY_AMT2  \\\n",
              "0         -1     -1  ...          0          0          0         0       689   \n",
              "1          0      0  ...       3272       3455       3261         0      1000   \n",
              "2          0      0  ...      14331      14948      15549      1518      1500   \n",
              "3          0      0  ...      28314      28959      29547      2000      2019   \n",
              "4         -1      0  ...      20940      19146      19131      2000     36681   \n",
              "...      ...    ...  ...        ...        ...        ...       ...       ...   \n",
              "29995      0      0  ...      88004      31237      15980      8500     20000   \n",
              "29996     -1     -1  ...       8979       5190          0      1837      3526   \n",
              "29997      2     -1  ...      20878      20582      19357         0         0   \n",
              "29998      0      0  ...      52774      11855      48944     85900      3409   \n",
              "29999      0      0  ...      36535      32428      15313      2078      1800   \n",
              "\n",
              "       PAY_AMT3  PAY_AMT4  PAY_AMT5  PAY_AMT6  default payment next month  \n",
              "0             0         0         0         0                           1  \n",
              "1          1000      1000         0      2000                           1  \n",
              "2          1000      1000      1000      5000                           0  \n",
              "3          1200      1100      1069      1000                           0  \n",
              "4         10000      9000       689       679                           0  \n",
              "...         ...       ...       ...       ...                         ...  \n",
              "29995      5003      3047      5000      1000                           0  \n",
              "29996      8998       129         0         0                           0  \n",
              "29997     22000      4200      2000      3100                           1  \n",
              "29998      1178      1926     52964      1804                           1  \n",
              "29999      1430      1000      1000      1000                           1  \n",
              "\n",
              "[29685 rows x 25 columns]"
            ]
          },
          "execution_count": 68,
          "metadata": {},
          "output_type": "execute_result"
        }
      ],
      "source": [
        "#O uso do ~ é pra transformas os false em true e mostrar apenas as linhas que não estão zeradas\n",
        "df_clean_1 = df.loc[~feature_zero_mask,:].copy()\n",
        "df_clean_1"
      ]
    },
    {
      "cell_type": "markdown",
      "metadata": {
        "id": "_Lda2Hfj4LbE"
      },
      "source": [
        "### 4.11 Verificando o shape do DataFrame\n",
        "\n",
        "11) Verifique o número de linhas e colunas de df_clean_1 executando o\n",
        "código a seguir:\n",
        "\n",
        "`df_clean_1.shape`"
      ]
    },
    {
      "cell_type": "code",
      "execution_count": 69,
      "metadata": {
        "colab": {
          "base_uri": "https://localhost:8080/"
        },
        "id": "K_1C4K054dSM",
        "outputId": "582d1134-0ed3-4eef-f11c-6a320124fb7f"
      },
      "outputs": [
        {
          "data": {
            "text/plain": [
              "(29685, 25)"
            ]
          },
          "execution_count": 69,
          "metadata": {},
          "output_type": "execute_result"
        }
      ],
      "source": [
        "# Tamanho do novo dataframe\n",
        "df_clean_1.shape"
      ]
    },
    {
      "cell_type": "code",
      "execution_count": 70,
      "metadata": {
        "colab": {
          "base_uri": "https://localhost:8080/"
        },
        "id": "pYLBlfcO4vc-",
        "outputId": "d9f38d97-44f5-4fea-bffb-5176525af9ae"
      },
      "outputs": [
        {
          "data": {
            "text/plain": [
              "29685"
            ]
          },
          "execution_count": 70,
          "metadata": {},
          "output_type": "execute_result"
        }
      ],
      "source": [
        "# Número de IDs exclusivos/únicos\n",
        "df_clean_1['ID'].nunique()"
      ]
    },
    {
      "cell_type": "markdown",
      "metadata": {
        "id": "FoqNIrbI5ALF"
      },
      "source": [
        "Como o número de linhas do novo DataFrame é igual ao número de IDs exclusivos, então a exclusão dos IDs duplicados em linhas zeradas foi concluída com sucesso."
      ]
    },
    {
      "cell_type": "markdown",
      "metadata": {
        "id": "SCva4UvE7RtC"
      },
      "source": [
        "## 5. Explorando e limpando os dados\n"
      ]
    },
    {
      "cell_type": "markdown",
      "metadata": {
        "id": "3yabSfoJ7iY8"
      },
      "source": [
        "### 5.1 Informações sobre o dataset\n",
        "\n",
        "1) Obtenha o tipo de dado das colunas do dataset usando o método `.info()` como mostrado:\n",
        "\n",
        "`df_clean_1.info()`"
      ]
    },
    {
      "cell_type": "code",
      "execution_count": 71,
      "metadata": {
        "colab": {
          "base_uri": "https://localhost:8080/"
        },
        "id": "zKrZAPZO7pvc",
        "outputId": "968711a6-8a04-48ab-b797-c2d10b80703a"
      },
      "outputs": [
        {
          "name": "stdout",
          "output_type": "stream",
          "text": [
            "<class 'pandas.core.frame.DataFrame'>\n",
            "Index: 29685 entries, 0 to 29999\n",
            "Data columns (total 25 columns):\n",
            " #   Column                      Non-Null Count  Dtype \n",
            "---  ------                      --------------  ----- \n",
            " 0   ID                          29685 non-null  object\n",
            " 1   LIMIT_BAL                   29685 non-null  int64 \n",
            " 2   SEX                         29685 non-null  int64 \n",
            " 3   EDUCATION                   29685 non-null  int64 \n",
            " 4   MARRIAGE                    29685 non-null  int64 \n",
            " 5   AGE                         29685 non-null  int64 \n",
            " 6   PAY_1                       29685 non-null  object\n",
            " 7   PAY_2                       29685 non-null  int64 \n",
            " 8   PAY_3                       29685 non-null  int64 \n",
            " 9   PAY_4                       29685 non-null  int64 \n",
            " 10  PAY_5                       29685 non-null  int64 \n",
            " 11  PAY_6                       29685 non-null  int64 \n",
            " 12  BILL_AMT1                   29685 non-null  int64 \n",
            " 13  BILL_AMT2                   29685 non-null  int64 \n",
            " 14  BILL_AMT3                   29685 non-null  int64 \n",
            " 15  BILL_AMT4                   29685 non-null  int64 \n",
            " 16  BILL_AMT5                   29685 non-null  int64 \n",
            " 17  BILL_AMT6                   29685 non-null  int64 \n",
            " 18  PAY_AMT1                    29685 non-null  int64 \n",
            " 19  PAY_AMT2                    29685 non-null  int64 \n",
            " 20  PAY_AMT3                    29685 non-null  int64 \n",
            " 21  PAY_AMT4                    29685 non-null  int64 \n",
            " 22  PAY_AMT5                    29685 non-null  int64 \n",
            " 23  PAY_AMT6                    29685 non-null  int64 \n",
            " 24  default payment next month  29685 non-null  int64 \n",
            "dtypes: int64(23), object(2)\n",
            "memory usage: 5.9+ MB\n"
          ]
        }
      ],
      "source": [
        "df_clean_1.info()"
      ]
    },
    {
      "cell_type": "markdown",
      "metadata": {
        "id": "cgKPcj8D35WM"
      },
      "source": [
        "Podemos observar que a coluna `PAY_1` não está np tipo `int64` como as outras. Portanto, isso será visto mais adiante."
      ]
    },
    {
      "cell_type": "markdown",
      "metadata": {
        "id": "tw-vIwzF3CZE"
      },
      "source": [
        "### 5.2 Visualizando as 5 primeiras linhas\n",
        "2) Use o método .head(n) do pandas para visualizar as n linhas\n",
        "superiores da série PAY_1:\n",
        "\n",
        "`df_clean_1['PAY_1'].head(5)`"
      ]
    },
    {
      "cell_type": "code",
      "execution_count": 72,
      "metadata": {
        "colab": {
          "base_uri": "https://localhost:8080/",
          "height": 241
        },
        "id": "JGXl6z1p3dpc",
        "outputId": "3e5a32e3-f6da-47d4-95fc-176e4da2b63e"
      },
      "outputs": [
        {
          "data": {
            "text/plain": [
              "0     2\n",
              "1    -1\n",
              "2     0\n",
              "3     0\n",
              "4    -1\n",
              "Name: PAY_1, dtype: object"
            ]
          },
          "execution_count": 72,
          "metadata": {},
          "output_type": "execute_result"
        }
      ],
      "source": [
        "df_clean_1['PAY_1'].head(5)"
      ]
    },
    {
      "cell_type": "markdown",
      "metadata": {
        "id": "Tli_OTsP6r2-"
      },
      "source": [
        "De acordo com o dicionário, -1 significa pagamento em dia e a partir do número 1 o número de meses de atraso. Logo, no dicionário não há um significado para o número 1 na coluna, o que é uma inconsistência."
      ]
    },
    {
      "cell_type": "markdown",
      "metadata": {
        "id": "U6_Uc0mI65tx"
      },
      "source": [
        "### 5.3 Contagem de valores únicos\n",
        "\n",
        "Obtenha as contagens de valores da coluna `PAY_1` usando o método `.value_counts()`:\n",
        "\n",
        "`df_clean_1['PAY_1'].value_counts()`"
      ]
    },
    {
      "cell_type": "code",
      "execution_count": 73,
      "metadata": {
        "colab": {
          "base_uri": "https://localhost:8080/",
          "height": 492
        },
        "id": "pyNgDXBA7J5M",
        "outputId": "a4e6cc88-64b0-4c55-ed3b-19715a67d6aa"
      },
      "outputs": [
        {
          "data": {
            "text/plain": [
              "PAY_1\n",
              "0                13087\n",
              "-1                5047\n",
              "1                 3261\n",
              "Not available     3021\n",
              "-2                2476\n",
              "2                 2378\n",
              "3                  292\n",
              "4                   63\n",
              "5                   23\n",
              "8                   17\n",
              "6                   11\n",
              "7                    9\n",
              "Name: count, dtype: int64"
            ]
          },
          "execution_count": 73,
          "metadata": {},
          "output_type": "execute_result"
        }
      ],
      "source": [
        "df_clean_1['PAY_1'].value_counts()"
      ]
    },
    {
      "cell_type": "markdown",
      "metadata": {
        "id": "WMqJYLp68f27"
      },
      "source": [
        "Verifica-se que há dois valores não definidos pelo dicionário: -2, 0 e 'Not available' (valor faltante - e isso fez a coluna virar do tipo object). Portanto, as linhas que contiverem esses valores serão excluídas (por enquanto, já que não sabemos o que fazer com esses valores faltantes ou incorretos)."
      ]
    },
    {
      "cell_type": "markdown",
      "metadata": {
        "id": "6M_SBaLb8uNj"
      },
      "source": [
        "### 5.4 Criar a máscara booleana para remover valores ausentes\n",
        "\n",
        "4) Use uma máscara lógica com o operador != (que significa “diferente\n",
        "de” em Python) para encontrar todas as linhas que não têm dados\n",
        "ausentes para a característica de PAY_1:\n",
        "\n",
        "`valid_pay_1_mask = df_clean_1['PAY_1'] != 'Not available'`\n",
        "\n",
        "`valid_pay_1_mask[0:5]`"
      ]
    },
    {
      "cell_type": "code",
      "execution_count": 74,
      "metadata": {
        "colab": {
          "base_uri": "https://localhost:8080/",
          "height": 241
        },
        "id": "s6YlUbEn_e9s",
        "outputId": "a86f70bd-b896-4fab-ef66-cd79cfd8b33d"
      },
      "outputs": [
        {
          "data": {
            "text/plain": [
              "0    True\n",
              "1    True\n",
              "2    True\n",
              "3    True\n",
              "4    True\n",
              "Name: PAY_1, dtype: bool"
            ]
          },
          "execution_count": 74,
          "metadata": {},
          "output_type": "execute_result"
        }
      ],
      "source": [
        "valid_pay_1_mask = df_clean_1['PAY_1'] != 'Not available' # Retorna para a variável True ou False dizendo se naquela posição o valor é diferente de 'Not available'\n",
        "valid_pay_1_mask[:5]"
      ]
    },
    {
      "cell_type": "markdown",
      "metadata": {
        "id": "8ncOqY1MABKi"
      },
      "source": [
        "### 5.5 Soma dos valores True\n",
        "\n",
        "5) Verifique quantas linhas não têm dados ausentes calculando a soma da\n",
        "máscara:\n",
        "\n",
        "`sum(valid_pay_1_mask)`"
      ]
    },
    {
      "cell_type": "code",
      "execution_count": 75,
      "metadata": {
        "colab": {
          "base_uri": "https://localhost:8080/"
        },
        "id": "Uw5J-yuLAQTU",
        "outputId": "e271494c-cfde-4c5e-eae4-8f592590ec9a"
      },
      "outputs": [
        {
          "data": {
            "text/plain": [
              "26664"
            ]
          },
          "execution_count": 75,
          "metadata": {},
          "output_type": "execute_result"
        }
      ],
      "source": [
        "sum(valid_pay_1_mask) # Soma as linhas se o valor da coluna PAY_1 tiver retornado True no passo anterior, ou seja, soma as linhas que contém algum valor de fato"
      ]
    },
    {
      "cell_type": "markdown",
      "metadata": {
        "id": "VgirQ-4-BOaU"
      },
      "source": [
        "### 5.6 Limpando as linhas incorretas\n",
        "\n",
        "6) Limpe os dados eliminando as linhas de PAY_1 com valores ausentes\n",
        "como mostrado aqui:\n",
        "\n",
        "`df_clean_2 = df_clean_1.loc[valid_pay_1_mask,:].copy()`"
      ]
    },
    {
      "cell_type": "code",
      "execution_count": 76,
      "metadata": {
        "id": "CNt2e3mUBXzR"
      },
      "outputs": [],
      "source": [
        "df_clean_2 = df_clean_1.loc[valid_pay_1_mask,:].copy() # Cria uma cópia do dataset apenas com as linhas que contém valores válidos na coluna PAY_1, baseado na máscara feita"
      ]
    },
    {
      "cell_type": "markdown",
      "metadata": {
        "id": "0roHvczOB1ej"
      },
      "source": [
        "### 5.7 Verificando o `shape` do DataFrame\n",
        "7) Obtenha a dimensão dos dados limpos usando o comando a seguir:\n",
        "\n",
        "`df_clean_2.shape`"
      ]
    },
    {
      "cell_type": "code",
      "execution_count": 77,
      "metadata": {
        "colab": {
          "base_uri": "https://localhost:8080/"
        },
        "id": "VgbG6D3YB9A7",
        "outputId": "b9d8bb99-b0a2-48ef-a299-4cd2d9f35a40"
      },
      "outputs": [
        {
          "data": {
            "text/plain": [
              "(26664, 25)"
            ]
          },
          "execution_count": 77,
          "metadata": {},
          "output_type": "execute_result"
        }
      ],
      "source": [
        "df_clean_2.shape"
      ]
    },
    {
      "cell_type": "markdown",
      "metadata": {
        "id": "6GGyFcL7C1H9"
      },
      "source": [
        "### 5.8 Corrigindo o tipo de dado da coluna `PAY_1`\n",
        "\n",
        "8) Execute o comando a seguir para converter o tipo de dado de PAY_1 de\n",
        "object para int64 e exiba os metadados das colunas PAY_1 e PAY_2:\n",
        "\n",
        "`df_clean_2['PAY_1'] = df_clean_2['PAY_1'].astype('int64')`\n",
        "\n",
        "`df_clean_2[['PAY_1', 'PAY_2']].info()`"
      ]
    },
    {
      "cell_type": "code",
      "execution_count": 78,
      "metadata": {
        "colab": {
          "base_uri": "https://localhost:8080/"
        },
        "id": "kQ006F6QDI7R",
        "outputId": "2e2d3fc4-4bef-455a-8951-7e195b05d9e5"
      },
      "outputs": [
        {
          "name": "stdout",
          "output_type": "stream",
          "text": [
            "<class 'pandas.core.frame.DataFrame'>\n",
            "Index: 26664 entries, 0 to 29999\n",
            "Data columns (total 2 columns):\n",
            " #   Column  Non-Null Count  Dtype\n",
            "---  ------  --------------  -----\n",
            " 0   PAY_1   26664 non-null  int64\n",
            " 1   PAY_2   26664 non-null  int64\n",
            "dtypes: int64(2)\n",
            "memory usage: 624.9 KB\n"
          ]
        }
      ],
      "source": [
        "df_clean_2['PAY_1'] = df_clean_2['PAY_1'].astype('int64')\n",
        "df_clean_2[['PAY_1','PAY_2']].info()"
      ]
    },
    {
      "cell_type": "markdown",
      "metadata": {
        "id": "Ruvz0RwKD1xb"
      },
      "source": [
        "**Explicações adicionais sobre as colunas feitas pelo sócio da empresa**\n",
        "\n",
        "* -2: significa que a conta começou o mês sem valor a ser pago e ocrédito não foi usado;\n",
        "* -1: significa que a conta usou um valor que foi totalmente pago\n",
        "* 0: significa que o pagamento mínimo foi feito, mas o saldo total\n",
        "devedor não foi pago"
      ]
    },
    {
      "cell_type": "markdown",
      "metadata": {
        "id": "l8EO4MyYjKuI"
      },
      "source": [
        "## 6. Explorando o limite de crédito e as características demográficas"
      ]
    },
    {
      "cell_type": "markdown",
      "metadata": {
        "id": "aZ8uUt10pDdw"
      },
      "source": [
        "### 6.1 Importando bibliotecas e configurando o Matplotlib\n",
        "\n",
        "1) Importe o matplotlib e defina algumas opções de plotagem com este\n",
        "fragmento de código:\n",
        "\n",
        "`import matplotlib.pyplot as plt #importa o pacote de plotagem`\n",
        "\n",
        "`%matplotlib inline #renderiza a plotagem automaticamente`\n",
        "\n",
        "`import matplotlib as mpl #recurso adicional de plotagem`"
      ]
    },
    {
      "cell_type": "code",
      "execution_count": 79,
      "metadata": {
        "id": "QK_fqdUMpI8R"
      },
      "outputs": [],
      "source": [
        "import matplotlib as mpl\n",
        "import matplotlib.pyplot as plt # Importa o pacote de plotagem - responsável por gerar os gráficos\n",
        "\n",
        "# Renderiza a plotagem automática\n",
        "%matplotlib inline"
      ]
    },
    {
      "cell_type": "markdown",
      "metadata": {
        "id": "otmhmmLWqwNj"
      },
      "source": [
        "### 6.2 Gerar histrogramas `AGE` e `LIMIT_BAL`\n",
        "\n",
        "2) Execute `df_clean_2[['LIMIT_BAL', 'AGE']].hist()`"
      ]
    },
    {
      "cell_type": "code",
      "execution_count": 80,
      "metadata": {
        "colab": {
          "base_uri": "https://localhost:8080/",
          "height": 452
        },
        "id": "D4T4lj5_q2V4",
        "outputId": "02a06148-9967-4d14-b353-5ea61156f285"
      },
      "outputs": [
        {
          "data": {
            "image/png": "[encoded data removed]",
            "text/plain": [
              "<Figure size 640x480 with 2 Axes>"
            ]
          },
          "metadata": {},
          "output_type": "display_data"
        }
      ],
      "source": [
        "df_clean_2[['LIMIT_BAL','AGE']].hist();"
      ]
    },
    {
      "cell_type": "markdown",
      "metadata": {
        "id": "BHr-ZnryzaDo"
      },
      "source": [
        "### 6.3 Estatística Descritiva de `AGE` e `LIMIT_BAL`\n",
        "\n",
        "3) Gere um relatório tabular de síntese estatística usando o comando a seguir:\n",
        "\n",
        "`df_clean_2[['LIMIT_BAL', 'AGE']].describe()`"
      ]
    },
    {
      "cell_type": "code",
      "execution_count": 81,
      "metadata": {
        "colab": {
          "base_uri": "https://localhost:8080/",
          "height": 300
        },
        "id": "yfU7rLsFPjPR",
        "outputId": "601d3784-87f5-4c7f-934e-d4d17a8a3131"
      },
      "outputs": [
        {
          "data": {
            "text/html": [
              "<div>\n",
              "<style scoped>\n",
              "    .dataframe tbody tr th:only-of-type {\n",
              "        vertical-align: middle;\n",
              "    }\n",
              "\n",
              "    .dataframe tbody tr th {\n",
              "        vertical-align: top;\n",
              "    }\n",
              "\n",
              "    .dataframe thead th {\n",
              "        text-align: right;\n",
              "    }\n",
              "</style>\n",
              "<table border=\"1\" class=\"dataframe\">\n",
              "  <thead>\n",
              "    <tr style=\"text-align: right;\">\n",
              "      <th></th>\n",
              "      <th>LIMIT_BAL</th>\n",
              "      <th>AGE</th>\n",
              "    </tr>\n",
              "  </thead>\n",
              "  <tbody>\n",
              "    <tr>\n",
              "      <th>count</th>\n",
              "      <td>26664.000000</td>\n",
              "      <td>26664.000000</td>\n",
              "    </tr>\n",
              "    <tr>\n",
              "      <th>mean</th>\n",
              "      <td>167919.054905</td>\n",
              "      <td>35.505213</td>\n",
              "    </tr>\n",
              "    <tr>\n",
              "      <th>std</th>\n",
              "      <td>129839.453081</td>\n",
              "      <td>9.227442</td>\n",
              "    </tr>\n",
              "    <tr>\n",
              "      <th>min</th>\n",
              "      <td>10000.000000</td>\n",
              "      <td>21.000000</td>\n",
              "    </tr>\n",
              "    <tr>\n",
              "      <th>25%</th>\n",
              "      <td>50000.000000</td>\n",
              "      <td>28.000000</td>\n",
              "    </tr>\n",
              "    <tr>\n",
              "      <th>50%</th>\n",
              "      <td>140000.000000</td>\n",
              "      <td>34.000000</td>\n",
              "    </tr>\n",
              "    <tr>\n",
              "      <th>75%</th>\n",
              "      <td>240000.000000</td>\n",
              "      <td>41.000000</td>\n",
              "    </tr>\n",
              "    <tr>\n",
              "      <th>max</th>\n",
              "      <td>800000.000000</td>\n",
              "      <td>79.000000</td>\n",
              "    </tr>\n",
              "  </tbody>\n",
              "</table>\n",
              "</div>"
            ],
            "text/plain": [
              "           LIMIT_BAL           AGE\n",
              "count   26664.000000  26664.000000\n",
              "mean   167919.054905     35.505213\n",
              "std    129839.453081      9.227442\n",
              "min     10000.000000     21.000000\n",
              "25%     50000.000000     28.000000\n",
              "50%    140000.000000     34.000000\n",
              "75%    240000.000000     41.000000\n",
              "max    800000.000000     79.000000"
            ]
          },
          "execution_count": 81,
          "metadata": {},
          "output_type": "execute_result"
        }
      ],
      "source": [
        "df_clean_2[['LIMIT_BAL', 'AGE']].describe()"
      ]
    },
    {
      "cell_type": "markdown",
      "metadata": {
        "id": "c67b79E5Psl0"
      },
      "source": [
        "- `count`: O número de valores não nulos nas colunas.\n",
        "- `mean`: A média dos valores.\n",
        "- `std`: O desvio padrão, que mede a dispersão dos dados em relação à média.\n",
        "- `min`: O valor mínimo nas colunas.\n",
        "- `25%`: O primeiro quartil (Q1), que é o valor abaixo do qual 25% dos dados se - encontram.\n",
        "- `50%`: A mediana (Q2), que é o valor do meio dos dados (50% dos dados estão abaixo deste valor).\n",
        "- `75%`: O terceiro quartil (Q3), que é o valor abaixo do qual 75% dos dados se encontram.\n",
        "- `max`: O valor máximo nas colunas."
      ]
    },
    {
      "cell_type": "markdown",
      "metadata": {
        "id": "Yr9lS2rpQQbu"
      },
      "source": [
        "### 6.4 Contagem de ocorrências por categoria em `EDUCATION`\n",
        "\n",
        "4) Obtenha as contagens de valores da característica EDUCATION usando o\n",
        "código a seguir:\n",
        "\n",
        "`df_clean_2['EDUCATION'].value_counts()`"
      ]
    },
    {
      "cell_type": "code",
      "execution_count": 82,
      "metadata": {
        "colab": {
          "base_uri": "https://localhost:8080/",
          "height": 335
        },
        "id": "lXeq-CtaRBKo",
        "outputId": "0a519b42-48a5-454a-a69c-bee079d98020"
      },
      "outputs": [
        {
          "data": {
            "text/plain": [
              "EDUCATION\n",
              "2    12458\n",
              "1     9412\n",
              "3     4380\n",
              "5      245\n",
              "4      115\n",
              "6       43\n",
              "0       11\n",
              "Name: count, dtype: int64"
            ]
          },
          "execution_count": 82,
          "metadata": {},
          "output_type": "execute_result"
        }
      ],
      "source": [
        "df_clean_2['EDUCATION'].value_counts() # Contando quantas vezes um determinado valor aparece na coluna 'EDUCATION'"
      ]
    },
    {
      "cell_type": "markdown",
      "metadata": {
        "id": "_fm4AE6QSKnw"
      },
      "source": [
        "Aqui, vemos os graus de instrução não documentados 0, 5 e 6, já que o\n",
        "dicionário de dados descreve apenas “Instrução (1 = pós-graduação; 2 =\n",
        "universidade; 3 = ensino médio; 4 = outros)”. O sócio da empresa nos\n",
        "disse que não conhece os outros graus. Já que eles não são predominantes, vamos agrupá-los na categoria “outros”, que parece apropriada, claro que com o consentimento de nosso cliente."
      ]
    },
    {
      "cell_type": "markdown",
      "metadata": {
        "id": "owdwCRWIZ5kj"
      },
      "source": [
        "### 6.5 Transformar 0, 5 e 6 em outros (4)\n",
        "\n",
        "5) Execute este código para combinar os graus não documentados da\n",
        "característica EDUCATION com o grau “outros” e examine os resultados:\n",
        "\n",
        "`df_clean_2['EDUCATION'].replace(to_replace=[0, 5, 6], value=4, inplace=True)`\n",
        "`df_clean_2['EDUCATION'].value_counts()`"
      ]
    },
    {
      "cell_type": "code",
      "execution_count": 83,
      "metadata": {
        "colab": {
          "base_uri": "https://localhost:8080/",
          "height": 382
        },
        "id": "MnlUmxNIf_z5",
        "outputId": "1b72e5c0-eeee-4312-e1a7-954e4c47b65d"
      },
      "outputs": [
        {
          "name": "stderr",
          "output_type": "stream",
          "text": [
            "C:\\Users\\nicol\\AppData\\Local\\Temp\\ipykernel_6360\\1151649261.py:1: FutureWarning: A value is trying to be set on a copy of a DataFrame or Series through chained assignment using an inplace method.\n",
            "The behavior will change in pandas 3.0. This inplace method will never work because the intermediate object on which we are setting values always behaves as a copy.\n",
            "\n",
            "For example, when doing 'df[col].method(value, inplace=True)', try using 'df.method({col: value}, inplace=True)' or df[col] = df[col].method(value) instead, to perform the operation inplace on the original object.\n",
            "\n",
            "\n",
            "  df_clean_2['EDUCATION'].replace(to_replace=[0,5,6], value=4, inplace=True) # inplace permite que a alteração seja feita no DataFrame original, não apenas uma cópia\n"
          ]
        },
        {
          "data": {
            "text/plain": [
              "EDUCATION\n",
              "2    12458\n",
              "1     9412\n",
              "3     4380\n",
              "4      414\n",
              "Name: count, dtype: int64"
            ]
          },
          "execution_count": 83,
          "metadata": {},
          "output_type": "execute_result"
        }
      ],
      "source": [
        "df_clean_2['EDUCATION'].replace(to_replace=[0,5,6], value=4, inplace=True) # inplace permite que a alteração seja feita no DataFrame original, não apenas uma cópia\n",
        "df_clean_2['EDUCATION'].value_counts()"
      ]
    },
    {
      "cell_type": "markdown",
      "metadata": {
        "id": "-goGHgLjg4WS"
      },
      "source": [
        "### 6.6 Contagem de ocorrências por categoria em MARRIAGE"
      ]
    },
    {
      "cell_type": "markdown",
      "metadata": {
        "id": "z5dBJoYAhEuq"
      },
      "source": [
        "6) Obtenha as contagens de valores da característica MARRIAGE usando o\n",
        "código a seguir:\n",
        "`df_clean_2['MARRIAGE'].value_counts()`"
      ]
    },
    {
      "cell_type": "code",
      "execution_count": 84,
      "metadata": {
        "colab": {
          "base_uri": "https://localhost:8080/",
          "height": 241
        },
        "id": "XXPr6xzxhPK5",
        "outputId": "ab868c65-94d1-4aec-d261-b48f3bb91523"
      },
      "outputs": [
        {
          "data": {
            "text/plain": [
              "MARRIAGE\n",
              "2    14158\n",
              "1    12172\n",
              "3      286\n",
              "0       48\n",
              "Name: count, dtype: int64"
            ]
          },
          "execution_count": 84,
          "metadata": {},
          "output_type": "execute_result"
        }
      ],
      "source": [
        "df_clean_2['MARRIAGE'].value_counts()"
      ]
    },
    {
      "cell_type": "markdown",
      "metadata": {
        "id": "3geua3lAhd6J"
      },
      "source": [
        "0 não está definido no dicionário do Dataset, portanto ele será mudado para 3 (outros)"
      ]
    },
    {
      "cell_type": "markdown",
      "metadata": {
        "id": "5HCe6FVFhmxJ"
      },
      "source": [
        "### 6.7 Transformar 0 em outros (3)\n",
        "7) Altere os valores 0 da característica MARRIAGE para 3 e examine o\n",
        "resultado com este código:\n",
        "\n",
        "`df_clean_2['MARRIAGE'].replace(to_replace=0, value=3, inplace=True)`\n",
        "\n",
        "`df_clean_2['MARRIAGE'].value_counts()`"
      ]
    },
    {
      "cell_type": "code",
      "execution_count": 85,
      "metadata": {
        "colab": {
          "base_uri": "https://localhost:8080/",
          "height": 351
        },
        "id": "GSnn7S6wlELq",
        "outputId": "0cdb2fe8-07b2-4fd7-de90-234e6b09f0ba"
      },
      "outputs": [
        {
          "name": "stderr",
          "output_type": "stream",
          "text": [
            "C:\\Users\\nicol\\AppData\\Local\\Temp\\ipykernel_6360\\1241686090.py:1: FutureWarning: A value is trying to be set on a copy of a DataFrame or Series through chained assignment using an inplace method.\n",
            "The behavior will change in pandas 3.0. This inplace method will never work because the intermediate object on which we are setting values always behaves as a copy.\n",
            "\n",
            "For example, when doing 'df[col].method(value, inplace=True)', try using 'df.method({col: value}, inplace=True)' or df[col] = df[col].method(value) instead, to perform the operation inplace on the original object.\n",
            "\n",
            "\n",
            "  df_clean_2['MARRIAGE'].replace(to_replace = 0, value=3, inplace=True)\n"
          ]
        },
        {
          "data": {
            "text/plain": [
              "MARRIAGE\n",
              "2    14158\n",
              "1    12172\n",
              "3      334\n",
              "Name: count, dtype: int64"
            ]
          },
          "execution_count": 85,
          "metadata": {},
          "output_type": "execute_result"
        }
      ],
      "source": [
        "df_clean_2['MARRIAGE'].replace(to_replace = 0, value=3, inplace=True)\n",
        "df_clean_2['MARRIAGE'].value_counts()"
      ]
    },
    {
      "cell_type": "markdown",
      "metadata": {
        "id": "8-17hUdrlsz6"
      },
      "source": [
        "### Característica Categóricas (Experimento)"
      ]
    },
    {
      "cell_type": "code",
      "execution_count": 86,
      "metadata": {
        "colab": {
          "base_uri": "https://localhost:8080/",
          "height": 444
        },
        "id": "pQaRdx-KDj4B",
        "outputId": "55543c4c-cc17-4e61-dfd9-cdd2fa818e48"
      },
      "outputs": [
        {
          "data": {
            "image/png": "[encoded data removed]",
            "text/plain": [
              "<Figure size 640x480 with 1 Axes>"
            ]
          },
          "metadata": {},
          "output_type": "display_data"
        }
      ],
      "source": [
        "df_clean_2.groupby('EDUCATION').agg({'default payment next month': 'mean'}).plot.bar(legend=False)\n",
        "plt.ylabel('Default Rate')\n",
        "plt.xlabel('Education Level: Ordinal Enconding');"
      ]
    },
    {
      "cell_type": "markdown",
      "metadata": {
        "id": "Y2QP6KgJJqjr"
      },
      "source": [
        "## 7. Implementando a OHE para uma característica categória\n"
      ]
    },
    {
      "cell_type": "markdown",
      "metadata": {
        "id": "f2RbATmX134f"
      },
      "source": [
        "### 7.1 Criando uma coluna vazia\n",
        "1) Crie uma coluna vazia para os rótulos categóricos chamada\n",
        "EDUCATION_CAT usando o comando a seguir:\n",
        "`df_clean_2['EDUCATION_CAT'] = 'none'`"
      ]
    },
    {
      "cell_type": "code",
      "execution_count": 87,
      "metadata": {
        "id": "rpqrSl5U16t0"
      },
      "outputs": [],
      "source": [
        "df_clean_2['EDUCATION_CAT'] = 'none'"
      ]
    },
    {
      "cell_type": "markdown",
      "metadata": {
        "id": "P7B09CPP2iX4"
      },
      "source": [
        "### 7.2 Examinando as 10 primeiras linhas\n",
        "2) Examine as primeiras linhas do DataFrame referentes às colunas\n",
        "EDUCATION e EDUCATION_CAT:\n",
        "\n",
        "`df_clean_2[['EDUCATION', 'EDUCATION_CAT']].head(10)`"
      ]
    },
    {
      "cell_type": "code",
      "execution_count": 88,
      "metadata": {
        "colab": {
          "base_uri": "https://localhost:8080/",
          "height": 363
        },
        "id": "F5dgZH1f2xet",
        "outputId": "adca0132-1f8c-4edd-9195-4387a06086ae"
      },
      "outputs": [
        {
          "data": {
            "text/html": [
              "<div>\n",
              "<style scoped>\n",
              "    .dataframe tbody tr th:only-of-type {\n",
              "        vertical-align: middle;\n",
              "    }\n",
              "\n",
              "    .dataframe tbody tr th {\n",
              "        vertical-align: top;\n",
              "    }\n",
              "\n",
              "    .dataframe thead th {\n",
              "        text-align: right;\n",
              "    }\n",
              "</style>\n",
              "<table border=\"1\" class=\"dataframe\">\n",
              "  <thead>\n",
              "    <tr style=\"text-align: right;\">\n",
              "      <th></th>\n",
              "      <th>EDUCATION</th>\n",
              "      <th>EDUCATION_CAT</th>\n",
              "    </tr>\n",
              "  </thead>\n",
              "  <tbody>\n",
              "    <tr>\n",
              "      <th>0</th>\n",
              "      <td>2</td>\n",
              "      <td>none</td>\n",
              "    </tr>\n",
              "    <tr>\n",
              "      <th>1</th>\n",
              "      <td>2</td>\n",
              "      <td>none</td>\n",
              "    </tr>\n",
              "    <tr>\n",
              "      <th>2</th>\n",
              "      <td>2</td>\n",
              "      <td>none</td>\n",
              "    </tr>\n",
              "    <tr>\n",
              "      <th>3</th>\n",
              "      <td>2</td>\n",
              "      <td>none</td>\n",
              "    </tr>\n",
              "    <tr>\n",
              "      <th>4</th>\n",
              "      <td>2</td>\n",
              "      <td>none</td>\n",
              "    </tr>\n",
              "    <tr>\n",
              "      <th>5</th>\n",
              "      <td>1</td>\n",
              "      <td>none</td>\n",
              "    </tr>\n",
              "    <tr>\n",
              "      <th>6</th>\n",
              "      <td>1</td>\n",
              "      <td>none</td>\n",
              "    </tr>\n",
              "    <tr>\n",
              "      <th>7</th>\n",
              "      <td>2</td>\n",
              "      <td>none</td>\n",
              "    </tr>\n",
              "    <tr>\n",
              "      <th>8</th>\n",
              "      <td>3</td>\n",
              "      <td>none</td>\n",
              "    </tr>\n",
              "    <tr>\n",
              "      <th>9</th>\n",
              "      <td>3</td>\n",
              "      <td>none</td>\n",
              "    </tr>\n",
              "  </tbody>\n",
              "</table>\n",
              "</div>"
            ],
            "text/plain": [
              "   EDUCATION EDUCATION_CAT\n",
              "0          2          none\n",
              "1          2          none\n",
              "2          2          none\n",
              "3          2          none\n",
              "4          2          none\n",
              "5          1          none\n",
              "6          1          none\n",
              "7          2          none\n",
              "8          3          none\n",
              "9          3          none"
            ]
          },
          "execution_count": 88,
          "metadata": {},
          "output_type": "execute_result"
        }
      ],
      "source": [
        "  df_clean_2[['EDUCATION','EDUCATION_CAT']].head(10)"
      ]
    },
    {
      "cell_type": "markdown",
      "metadata": {
        "id": "iFoIo_Wy3NVV"
      },
      "source": [
        "### 7.3 Criando um dicionário de mapeamento de categorias"
      ]
    },
    {
      "cell_type": "markdown",
      "metadata": {
        "id": "pBgK9fcR3UJd"
      },
      "source": [
        "3) Crie um dicionário que descreva o mapeamento das categorias de\n",
        "instrução usando o código a seguir:\n",
        "\n",
        "`cat_mapping = {`\n",
        "\n",
        "`1: \"graduate school\",`\n",
        "\n",
        "`2: \"university\",`\n",
        "\n",
        "`3: \"high school\",`\n",
        "\n",
        "`4: \"others\"`\n",
        "`}`"
      ]
    },
    {
      "cell_type": "code",
      "execution_count": 89,
      "metadata": {
        "id": "mJ4mIKIY3ufV"
      },
      "outputs": [],
      "source": [
        "cat_mapping = {\n",
        "    1: \"graduate school\",\n",
        "    2: \"university\",\n",
        "    3: \"high school\",\n",
        "    4: \"others\"\n",
        "}"
      ]
    },
    {
      "cell_type": "markdown",
      "metadata": {
        "id": "0X7JkXnu446H"
      },
      "source": [
        "### 7.4 Aplicando o mapeamento de categorias"
      ]
    },
    {
      "cell_type": "markdown",
      "metadata": {
        "id": "DTom-sgz5E9F"
      },
      "source": [
        "4. Aplique o mapeamento à coluna EDUCATION original usando .map e\n",
        "atribua o resultado à nova coluna EDUCATION_CAT:\n",
        "\n",
        "`df_clean_2['EDUCATION_CAT'] = df_clean_2['EDUCATION'].map(cat_mapping)`\n",
        "\n",
        "`df_clean_2[['EDUCATION', 'EDUCATION_CAT']].head(10)`"
      ]
    },
    {
      "cell_type": "code",
      "execution_count": 90,
      "metadata": {
        "colab": {
          "base_uri": "https://localhost:8080/",
          "height": 363
        },
        "id": "HDwtErOk5Sxt",
        "outputId": "e2278747-4333-472c-8b3a-b1fe40be0bd9"
      },
      "outputs": [
        {
          "data": {
            "text/html": [
              "<div>\n",
              "<style scoped>\n",
              "    .dataframe tbody tr th:only-of-type {\n",
              "        vertical-align: middle;\n",
              "    }\n",
              "\n",
              "    .dataframe tbody tr th {\n",
              "        vertical-align: top;\n",
              "    }\n",
              "\n",
              "    .dataframe thead th {\n",
              "        text-align: right;\n",
              "    }\n",
              "</style>\n",
              "<table border=\"1\" class=\"dataframe\">\n",
              "  <thead>\n",
              "    <tr style=\"text-align: right;\">\n",
              "      <th></th>\n",
              "      <th>EDUCATION</th>\n",
              "      <th>EDUCATION_CAT</th>\n",
              "    </tr>\n",
              "  </thead>\n",
              "  <tbody>\n",
              "    <tr>\n",
              "      <th>0</th>\n",
              "      <td>2</td>\n",
              "      <td>university</td>\n",
              "    </tr>\n",
              "    <tr>\n",
              "      <th>1</th>\n",
              "      <td>2</td>\n",
              "      <td>university</td>\n",
              "    </tr>\n",
              "    <tr>\n",
              "      <th>2</th>\n",
              "      <td>2</td>\n",
              "      <td>university</td>\n",
              "    </tr>\n",
              "    <tr>\n",
              "      <th>3</th>\n",
              "      <td>2</td>\n",
              "      <td>university</td>\n",
              "    </tr>\n",
              "    <tr>\n",
              "      <th>4</th>\n",
              "      <td>2</td>\n",
              "      <td>university</td>\n",
              "    </tr>\n",
              "    <tr>\n",
              "      <th>5</th>\n",
              "      <td>1</td>\n",
              "      <td>graduate school</td>\n",
              "    </tr>\n",
              "    <tr>\n",
              "      <th>6</th>\n",
              "      <td>1</td>\n",
              "      <td>graduate school</td>\n",
              "    </tr>\n",
              "    <tr>\n",
              "      <th>7</th>\n",
              "      <td>2</td>\n",
              "      <td>university</td>\n",
              "    </tr>\n",
              "    <tr>\n",
              "      <th>8</th>\n",
              "      <td>3</td>\n",
              "      <td>high school</td>\n",
              "    </tr>\n",
              "    <tr>\n",
              "      <th>9</th>\n",
              "      <td>3</td>\n",
              "      <td>high school</td>\n",
              "    </tr>\n",
              "  </tbody>\n",
              "</table>\n",
              "</div>"
            ],
            "text/plain": [
              "   EDUCATION    EDUCATION_CAT\n",
              "0          2       university\n",
              "1          2       university\n",
              "2          2       university\n",
              "3          2       university\n",
              "4          2       university\n",
              "5          1  graduate school\n",
              "6          1  graduate school\n",
              "7          2       university\n",
              "8          3      high school\n",
              "9          3      high school"
            ]
          },
          "execution_count": 90,
          "metadata": {},
          "output_type": "execute_result"
        }
      ],
      "source": [
        "df_clean_2['EDUCATION_CAT'] = df_clean_2['EDUCATION'].map(cat_mapping) # Preenche a coluna EDUCATION_MAP baseado no dicionário cat_mapping\n",
        "df_clean_2[['EDUCATION','EDUCATION_CAT']].head(10)"
      ]
    },
    {
      "cell_type": "markdown",
      "metadata": {
        "id": "ADF9V8239Gxf"
      },
      "source": [
        "### 7.5 Codificação de características com OHE"
      ]
    },
    {
      "cell_type": "markdown",
      "metadata": {
        "id": "BJerKruH-2Kx"
      },
      "source": [
        "5. Execute esse código para criar um DataFrame de codificação one-hot da coluna EDUCATION_CAT. Examine as 10 primeiras linhas:\n",
        "\n",
        "`edu_ohe = pd.get_dummies(df_clean_2['EDUCATION_CAT'])`\n",
        "\n",
        "`edu_ohe.head(10)`"
      ]
    },
    {
      "cell_type": "code",
      "execution_count": 91,
      "metadata": {
        "colab": {
          "base_uri": "https://localhost:8080/",
          "height": 363
        },
        "id": "f2RwVAg1_Hc9",
        "outputId": "f69f2efb-19bc-4948-8b79-1d6dcdd3bffb"
      },
      "outputs": [
        {
          "data": {
            "text/html": [
              "<div>\n",
              "<style scoped>\n",
              "    .dataframe tbody tr th:only-of-type {\n",
              "        vertical-align: middle;\n",
              "    }\n",
              "\n",
              "    .dataframe tbody tr th {\n",
              "        vertical-align: top;\n",
              "    }\n",
              "\n",
              "    .dataframe thead th {\n",
              "        text-align: right;\n",
              "    }\n",
              "</style>\n",
              "<table border=\"1\" class=\"dataframe\">\n",
              "  <thead>\n",
              "    <tr style=\"text-align: right;\">\n",
              "      <th></th>\n",
              "      <th>graduate school</th>\n",
              "      <th>high school</th>\n",
              "      <th>others</th>\n",
              "      <th>university</th>\n",
              "    </tr>\n",
              "  </thead>\n",
              "  <tbody>\n",
              "    <tr>\n",
              "      <th>0</th>\n",
              "      <td>False</td>\n",
              "      <td>False</td>\n",
              "      <td>False</td>\n",
              "      <td>True</td>\n",
              "    </tr>\n",
              "    <tr>\n",
              "      <th>1</th>\n",
              "      <td>False</td>\n",
              "      <td>False</td>\n",
              "      <td>False</td>\n",
              "      <td>True</td>\n",
              "    </tr>\n",
              "    <tr>\n",
              "      <th>2</th>\n",
              "      <td>False</td>\n",
              "      <td>False</td>\n",
              "      <td>False</td>\n",
              "      <td>True</td>\n",
              "    </tr>\n",
              "    <tr>\n",
              "      <th>3</th>\n",
              "      <td>False</td>\n",
              "      <td>False</td>\n",
              "      <td>False</td>\n",
              "      <td>True</td>\n",
              "    </tr>\n",
              "    <tr>\n",
              "      <th>4</th>\n",
              "      <td>False</td>\n",
              "      <td>False</td>\n",
              "      <td>False</td>\n",
              "      <td>True</td>\n",
              "    </tr>\n",
              "    <tr>\n",
              "      <th>5</th>\n",
              "      <td>True</td>\n",
              "      <td>False</td>\n",
              "      <td>False</td>\n",
              "      <td>False</td>\n",
              "    </tr>\n",
              "    <tr>\n",
              "      <th>6</th>\n",
              "      <td>True</td>\n",
              "      <td>False</td>\n",
              "      <td>False</td>\n",
              "      <td>False</td>\n",
              "    </tr>\n",
              "    <tr>\n",
              "      <th>7</th>\n",
              "      <td>False</td>\n",
              "      <td>False</td>\n",
              "      <td>False</td>\n",
              "      <td>True</td>\n",
              "    </tr>\n",
              "    <tr>\n",
              "      <th>8</th>\n",
              "      <td>False</td>\n",
              "      <td>True</td>\n",
              "      <td>False</td>\n",
              "      <td>False</td>\n",
              "    </tr>\n",
              "    <tr>\n",
              "      <th>9</th>\n",
              "      <td>False</td>\n",
              "      <td>True</td>\n",
              "      <td>False</td>\n",
              "      <td>False</td>\n",
              "    </tr>\n",
              "  </tbody>\n",
              "</table>\n",
              "</div>"
            ],
            "text/plain": [
              "   graduate school  high school  others  university\n",
              "0            False        False   False        True\n",
              "1            False        False   False        True\n",
              "2            False        False   False        True\n",
              "3            False        False   False        True\n",
              "4            False        False   False        True\n",
              "5             True        False   False       False\n",
              "6             True        False   False       False\n",
              "7            False        False   False        True\n",
              "8            False         True   False       False\n",
              "9            False         True   False       False"
            ]
          },
          "execution_count": 91,
          "metadata": {},
          "output_type": "execute_result"
        }
      ],
      "source": [
        "edu_ohe = pd.get_dummies(df_clean_2['EDUCATION_CAT'])\n",
        "edu_ohe.head(10)"
      ]
    },
    {
      "cell_type": "markdown",
      "metadata": {
        "id": "nIzBvqEAK4Ze"
      },
      "source": [
        "## 7.6 Concantenando o DataFrame original com OHE\n",
        "\n",
        "6. Concatene o DataFrame de codificação one-hot com o original da\n",
        "seguinte forma:\n",
        "\n",
        "`df_with_ohe = pd.concat([df_clean_2, edu_ohe], axis=1)`\n",
        "\n",
        "`df_with_ohe[['EDUCATION_CAT', 'graduate school','high school', 'university','others']].head(10)`"
      ]
    },
    {
      "cell_type": "code",
      "execution_count": 92,
      "metadata": {
        "colab": {
          "base_uri": "https://localhost:8080/",
          "height": 363
        },
        "id": "QbCyTKzWLRvm",
        "outputId": "077c39a3-c391-4bbd-965f-d40f5b8ba13d"
      },
      "outputs": [
        {
          "data": {
            "text/html": [
              "<div>\n",
              "<style scoped>\n",
              "    .dataframe tbody tr th:only-of-type {\n",
              "        vertical-align: middle;\n",
              "    }\n",
              "\n",
              "    .dataframe tbody tr th {\n",
              "        vertical-align: top;\n",
              "    }\n",
              "\n",
              "    .dataframe thead th {\n",
              "        text-align: right;\n",
              "    }\n",
              "</style>\n",
              "<table border=\"1\" class=\"dataframe\">\n",
              "  <thead>\n",
              "    <tr style=\"text-align: right;\">\n",
              "      <th></th>\n",
              "      <th>EDUCATION_CAT</th>\n",
              "      <th>graduate school</th>\n",
              "      <th>high school</th>\n",
              "      <th>university</th>\n",
              "      <th>others</th>\n",
              "    </tr>\n",
              "  </thead>\n",
              "  <tbody>\n",
              "    <tr>\n",
              "      <th>0</th>\n",
              "      <td>university</td>\n",
              "      <td>False</td>\n",
              "      <td>False</td>\n",
              "      <td>True</td>\n",
              "      <td>False</td>\n",
              "    </tr>\n",
              "    <tr>\n",
              "      <th>1</th>\n",
              "      <td>university</td>\n",
              "      <td>False</td>\n",
              "      <td>False</td>\n",
              "      <td>True</td>\n",
              "      <td>False</td>\n",
              "    </tr>\n",
              "    <tr>\n",
              "      <th>2</th>\n",
              "      <td>university</td>\n",
              "      <td>False</td>\n",
              "      <td>False</td>\n",
              "      <td>True</td>\n",
              "      <td>False</td>\n",
              "    </tr>\n",
              "    <tr>\n",
              "      <th>3</th>\n",
              "      <td>university</td>\n",
              "      <td>False</td>\n",
              "      <td>False</td>\n",
              "      <td>True</td>\n",
              "      <td>False</td>\n",
              "    </tr>\n",
              "    <tr>\n",
              "      <th>4</th>\n",
              "      <td>university</td>\n",
              "      <td>False</td>\n",
              "      <td>False</td>\n",
              "      <td>True</td>\n",
              "      <td>False</td>\n",
              "    </tr>\n",
              "    <tr>\n",
              "      <th>5</th>\n",
              "      <td>graduate school</td>\n",
              "      <td>True</td>\n",
              "      <td>False</td>\n",
              "      <td>False</td>\n",
              "      <td>False</td>\n",
              "    </tr>\n",
              "    <tr>\n",
              "      <th>6</th>\n",
              "      <td>graduate school</td>\n",
              "      <td>True</td>\n",
              "      <td>False</td>\n",
              "      <td>False</td>\n",
              "      <td>False</td>\n",
              "    </tr>\n",
              "    <tr>\n",
              "      <th>7</th>\n",
              "      <td>university</td>\n",
              "      <td>False</td>\n",
              "      <td>False</td>\n",
              "      <td>True</td>\n",
              "      <td>False</td>\n",
              "    </tr>\n",
              "    <tr>\n",
              "      <th>8</th>\n",
              "      <td>high school</td>\n",
              "      <td>False</td>\n",
              "      <td>True</td>\n",
              "      <td>False</td>\n",
              "      <td>False</td>\n",
              "    </tr>\n",
              "    <tr>\n",
              "      <th>9</th>\n",
              "      <td>high school</td>\n",
              "      <td>False</td>\n",
              "      <td>True</td>\n",
              "      <td>False</td>\n",
              "      <td>False</td>\n",
              "    </tr>\n",
              "  </tbody>\n",
              "</table>\n",
              "</div>"
            ],
            "text/plain": [
              "     EDUCATION_CAT  graduate school  high school  university  others\n",
              "0       university            False        False        True   False\n",
              "1       university            False        False        True   False\n",
              "2       university            False        False        True   False\n",
              "3       university            False        False        True   False\n",
              "4       university            False        False        True   False\n",
              "5  graduate school             True        False       False   False\n",
              "6  graduate school             True        False       False   False\n",
              "7       university            False        False        True   False\n",
              "8      high school            False         True       False   False\n",
              "9      high school            False         True       False   False"
            ]
          },
          "execution_count": 92,
          "metadata": {},
          "output_type": "execute_result"
        }
      ],
      "source": [
        "df_with_ohe = pd.concat([df_clean_2, edu_ohe],axis=1)\n",
        "df_with_ohe[['EDUCATION_CAT','graduate school','high school','university','others']].head(10)"
      ]
    },
    {
      "cell_type": "code",
      "execution_count": 93,
      "metadata": {
        "id": "f-9oLJiTPNJf"
      },
      "outputs": [],
      "source": [
        "df_with_ohe.to_csv('../Arquivos/chapter_1_cleaned_data.csv', index=False)"
      ]
    }
  ],
  "metadata": {
    "colab": {
      "authorship_tag": "ABX9TyP9PdItbiw9oF3xohugknFS",
      "mount_file_id": "1ogb1-5fQas8VelnjsagI_sjsgVP23FOv",
      "provenance": []
    },
    "kernelspec": {
      "display_name": "Python 3",
      "name": "python3"
    },
    "language_info": {
      "codemirror_mode": {
        "name": "ipython",
        "version": 3
      },
      "file_extension": ".py",
      "mimetype": "text/x-python",
      "name": "python",
      "nbconvert_exporter": "python",
      "pygments_lexer": "ipython3",
      "version": "3.12.10"
    }
  },
  "nbformat": 4,
  "nbformat_minor": 0
}
